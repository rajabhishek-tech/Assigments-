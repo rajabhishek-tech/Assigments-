{
 "cells": [
  {
   "cell_type": "markdown",
   "metadata": {},
   "source": [
    "# Forecast the CocaCola prices and Airlines Passengers data set. Prepare a document for each model explaining \n",
    "# how many dummy variables you have created and RMSE value for each model. Finally which model you will use for \n",
    "# Forecasting.\n"
   ]
  },
  {
   "cell_type": "code",
   "execution_count": 61,
   "metadata": {},
   "outputs": [],
   "source": [
    "import numpy as np\n",
    "import pandas as pd\n",
    "import matplotlib.pyplot as plt\n",
    "import seaborn as sns\n",
    "from matplotlib import pyplot"
   ]
  },
  {
   "cell_type": "code",
   "execution_count": 62,
   "metadata": {},
   "outputs": [],
   "source": [
    "#load the libraries\n",
    "import pandas as pd\n",
    "import numpy as np\n",
    "import pandas_profiling as pp\n",
    "import sweetviz as sv"
   ]
  },
  {
   "cell_type": "code",
   "execution_count": 63,
   "metadata": {},
   "outputs": [],
   "source": [
    "coca = pd.read_csv(\"C:/Users/RajabhishekAditya/Downloads/forecasting/CocaCola.csv\")\n",
    "#coca.CocaCola.plot()\n",
    "#coca"
   ]
  },
  {
   "cell_type": "code",
   "execution_count": 64,
   "metadata": {},
   "outputs": [
    {
     "data": {
      "text/html": [
       "<div>\n",
       "<style scoped>\n",
       "    .dataframe tbody tr th:only-of-type {\n",
       "        vertical-align: middle;\n",
       "    }\n",
       "\n",
       "    .dataframe tbody tr th {\n",
       "        vertical-align: top;\n",
       "    }\n",
       "\n",
       "    .dataframe thead th {\n",
       "        text-align: right;\n",
       "    }\n",
       "</style>\n",
       "<table border=\"1\" class=\"dataframe\">\n",
       "  <thead>\n",
       "    <tr style=\"text-align: right;\">\n",
       "      <th></th>\n",
       "      <th>Quarter</th>\n",
       "      <th>Sales</th>\n",
       "    </tr>\n",
       "  </thead>\n",
       "  <tbody>\n",
       "    <tr>\n",
       "      <th>0</th>\n",
       "      <td>Q1_86</td>\n",
       "      <td>1734.827000</td>\n",
       "    </tr>\n",
       "    <tr>\n",
       "      <th>1</th>\n",
       "      <td>Q2_86</td>\n",
       "      <td>2244.960999</td>\n",
       "    </tr>\n",
       "    <tr>\n",
       "      <th>2</th>\n",
       "      <td>Q3_86</td>\n",
       "      <td>2533.804993</td>\n",
       "    </tr>\n",
       "    <tr>\n",
       "      <th>3</th>\n",
       "      <td>Q4_86</td>\n",
       "      <td>2154.962997</td>\n",
       "    </tr>\n",
       "    <tr>\n",
       "      <th>4</th>\n",
       "      <td>Q1_87</td>\n",
       "      <td>1547.818996</td>\n",
       "    </tr>\n",
       "    <tr>\n",
       "      <th>5</th>\n",
       "      <td>Q2_87</td>\n",
       "      <td>2104.411995</td>\n",
       "    </tr>\n",
       "    <tr>\n",
       "      <th>6</th>\n",
       "      <td>Q3_87</td>\n",
       "      <td>2014.362999</td>\n",
       "    </tr>\n",
       "    <tr>\n",
       "      <th>7</th>\n",
       "      <td>Q4_87</td>\n",
       "      <td>1991.746998</td>\n",
       "    </tr>\n",
       "    <tr>\n",
       "      <th>8</th>\n",
       "      <td>Q1_88</td>\n",
       "      <td>1869.049999</td>\n",
       "    </tr>\n",
       "    <tr>\n",
       "      <th>9</th>\n",
       "      <td>Q2_88</td>\n",
       "      <td>2313.631996</td>\n",
       "    </tr>\n",
       "    <tr>\n",
       "      <th>10</th>\n",
       "      <td>Q3_88</td>\n",
       "      <td>2128.320000</td>\n",
       "    </tr>\n",
       "    <tr>\n",
       "      <th>11</th>\n",
       "      <td>Q4_88</td>\n",
       "      <td>2026.828999</td>\n",
       "    </tr>\n",
       "    <tr>\n",
       "      <th>12</th>\n",
       "      <td>Q1_89</td>\n",
       "      <td>1910.603996</td>\n",
       "    </tr>\n",
       "    <tr>\n",
       "      <th>13</th>\n",
       "      <td>Q2_89</td>\n",
       "      <td>2331.164993</td>\n",
       "    </tr>\n",
       "    <tr>\n",
       "      <th>14</th>\n",
       "      <td>Q3_89</td>\n",
       "      <td>2206.549995</td>\n",
       "    </tr>\n",
       "    <tr>\n",
       "      <th>15</th>\n",
       "      <td>Q4_89</td>\n",
       "      <td>2173.967995</td>\n",
       "    </tr>\n",
       "    <tr>\n",
       "      <th>16</th>\n",
       "      <td>Q1_90</td>\n",
       "      <td>2148.278000</td>\n",
       "    </tr>\n",
       "    <tr>\n",
       "      <th>17</th>\n",
       "      <td>Q2_90</td>\n",
       "      <td>2739.307999</td>\n",
       "    </tr>\n",
       "    <tr>\n",
       "      <th>18</th>\n",
       "      <td>Q3_90</td>\n",
       "      <td>2792.753998</td>\n",
       "    </tr>\n",
       "    <tr>\n",
       "      <th>19</th>\n",
       "      <td>Q4_90</td>\n",
       "      <td>2556.009995</td>\n",
       "    </tr>\n",
       "    <tr>\n",
       "      <th>20</th>\n",
       "      <td>Q1_91</td>\n",
       "      <td>2480.973999</td>\n",
       "    </tr>\n",
       "    <tr>\n",
       "      <th>21</th>\n",
       "      <td>Q2_91</td>\n",
       "      <td>3039.522995</td>\n",
       "    </tr>\n",
       "    <tr>\n",
       "      <th>22</th>\n",
       "      <td>Q3_91</td>\n",
       "      <td>3172.115997</td>\n",
       "    </tr>\n",
       "    <tr>\n",
       "      <th>23</th>\n",
       "      <td>Q4_91</td>\n",
       "      <td>2879.000999</td>\n",
       "    </tr>\n",
       "    <tr>\n",
       "      <th>24</th>\n",
       "      <td>Q1_92</td>\n",
       "      <td>2772.000000</td>\n",
       "    </tr>\n",
       "    <tr>\n",
       "      <th>25</th>\n",
       "      <td>Q2_92</td>\n",
       "      <td>3550.000000</td>\n",
       "    </tr>\n",
       "    <tr>\n",
       "      <th>26</th>\n",
       "      <td>Q3_92</td>\n",
       "      <td>3508.000000</td>\n",
       "    </tr>\n",
       "    <tr>\n",
       "      <th>27</th>\n",
       "      <td>Q4_92</td>\n",
       "      <td>3243.859993</td>\n",
       "    </tr>\n",
       "    <tr>\n",
       "      <th>28</th>\n",
       "      <td>Q1_93</td>\n",
       "      <td>3056.000000</td>\n",
       "    </tr>\n",
       "    <tr>\n",
       "      <th>29</th>\n",
       "      <td>Q2_93</td>\n",
       "      <td>3899.000000</td>\n",
       "    </tr>\n",
       "    <tr>\n",
       "      <th>30</th>\n",
       "      <td>Q3_93</td>\n",
       "      <td>3629.000000</td>\n",
       "    </tr>\n",
       "    <tr>\n",
       "      <th>31</th>\n",
       "      <td>Q4_93</td>\n",
       "      <td>3373.000000</td>\n",
       "    </tr>\n",
       "    <tr>\n",
       "      <th>32</th>\n",
       "      <td>Q1_94</td>\n",
       "      <td>3352.000000</td>\n",
       "    </tr>\n",
       "    <tr>\n",
       "      <th>33</th>\n",
       "      <td>Q2_94</td>\n",
       "      <td>4342.000000</td>\n",
       "    </tr>\n",
       "    <tr>\n",
       "      <th>34</th>\n",
       "      <td>Q3_94</td>\n",
       "      <td>4461.000000</td>\n",
       "    </tr>\n",
       "    <tr>\n",
       "      <th>35</th>\n",
       "      <td>Q4_94</td>\n",
       "      <td>4017.000000</td>\n",
       "    </tr>\n",
       "    <tr>\n",
       "      <th>36</th>\n",
       "      <td>Q1_95</td>\n",
       "      <td>3854.000000</td>\n",
       "    </tr>\n",
       "    <tr>\n",
       "      <th>37</th>\n",
       "      <td>Q2_95</td>\n",
       "      <td>4936.000000</td>\n",
       "    </tr>\n",
       "    <tr>\n",
       "      <th>38</th>\n",
       "      <td>Q3_95</td>\n",
       "      <td>4895.000000</td>\n",
       "    </tr>\n",
       "    <tr>\n",
       "      <th>39</th>\n",
       "      <td>Q4_95</td>\n",
       "      <td>4333.000000</td>\n",
       "    </tr>\n",
       "    <tr>\n",
       "      <th>40</th>\n",
       "      <td>Q1_96</td>\n",
       "      <td>4194.000000</td>\n",
       "    </tr>\n",
       "    <tr>\n",
       "      <th>41</th>\n",
       "      <td>Q2_96</td>\n",
       "      <td>5253.000000</td>\n",
       "    </tr>\n",
       "  </tbody>\n",
       "</table>\n",
       "</div>"
      ],
      "text/plain": [
       "   Quarter        Sales\n",
       "0    Q1_86  1734.827000\n",
       "1    Q2_86  2244.960999\n",
       "2    Q3_86  2533.804993\n",
       "3    Q4_86  2154.962997\n",
       "4    Q1_87  1547.818996\n",
       "5    Q2_87  2104.411995\n",
       "6    Q3_87  2014.362999\n",
       "7    Q4_87  1991.746998\n",
       "8    Q1_88  1869.049999\n",
       "9    Q2_88  2313.631996\n",
       "10   Q3_88  2128.320000\n",
       "11   Q4_88  2026.828999\n",
       "12   Q1_89  1910.603996\n",
       "13   Q2_89  2331.164993\n",
       "14   Q3_89  2206.549995\n",
       "15   Q4_89  2173.967995\n",
       "16   Q1_90  2148.278000\n",
       "17   Q2_90  2739.307999\n",
       "18   Q3_90  2792.753998\n",
       "19   Q4_90  2556.009995\n",
       "20   Q1_91  2480.973999\n",
       "21   Q2_91  3039.522995\n",
       "22   Q3_91  3172.115997\n",
       "23   Q4_91  2879.000999\n",
       "24   Q1_92  2772.000000\n",
       "25   Q2_92  3550.000000\n",
       "26   Q3_92  3508.000000\n",
       "27   Q4_92  3243.859993\n",
       "28   Q1_93  3056.000000\n",
       "29   Q2_93  3899.000000\n",
       "30   Q3_93  3629.000000\n",
       "31   Q4_93  3373.000000\n",
       "32   Q1_94  3352.000000\n",
       "33   Q2_94  4342.000000\n",
       "34   Q3_94  4461.000000\n",
       "35   Q4_94  4017.000000\n",
       "36   Q1_95  3854.000000\n",
       "37   Q2_95  4936.000000\n",
       "38   Q3_95  4895.000000\n",
       "39   Q4_95  4333.000000\n",
       "40   Q1_96  4194.000000\n",
       "41   Q2_96  5253.000000"
      ]
     },
     "execution_count": 64,
     "metadata": {},
     "output_type": "execute_result"
    }
   ],
   "source": [
    "coca"
   ]
  },
  {
   "cell_type": "code",
   "execution_count": 65,
   "metadata": {},
   "outputs": [
    {
     "data": {
      "text/plain": [
       "(42, 2)"
      ]
     },
     "execution_count": 65,
     "metadata": {},
     "output_type": "execute_result"
    }
   ],
   "source": [
    "#Data Structure \n",
    "type(coca)\n",
    "coca.shape"
   ]
  },
  {
   "cell_type": "code",
   "execution_count": 66,
   "metadata": {},
   "outputs": [
    {
     "data": {
      "text/plain": [
       "Quarter     object\n",
       "Sales      float64\n",
       "dtype: object"
      ]
     },
     "execution_count": 66,
     "metadata": {},
     "output_type": "execute_result"
    }
   ],
   "source": [
    "#data types\n",
    "coca.dtypes"
   ]
  },
  {
   "cell_type": "code",
   "execution_count": 67,
   "metadata": {},
   "outputs": [
    {
     "name": "stdout",
     "output_type": "stream",
     "text": [
      "<class 'pandas.core.frame.DataFrame'>\n",
      "RangeIndex: 42 entries, 0 to 41\n",
      "Data columns (total 2 columns):\n",
      " #   Column   Non-Null Count  Dtype  \n",
      "---  ------   --------------  -----  \n",
      " 0   Quarter  42 non-null     object \n",
      " 1   Sales    42 non-null     float64\n",
      "dtypes: float64(1), object(1)\n",
      "memory usage: 800.0+ bytes\n"
     ]
    }
   ],
   "source": [
    "coca.info()"
   ]
  },
  {
   "cell_type": "code",
   "execution_count": 68,
   "metadata": {},
   "outputs": [
    {
     "data": {
      "text/html": [
       "<div>\n",
       "<style scoped>\n",
       "    .dataframe tbody tr th:only-of-type {\n",
       "        vertical-align: middle;\n",
       "    }\n",
       "\n",
       "    .dataframe tbody tr th {\n",
       "        vertical-align: top;\n",
       "    }\n",
       "\n",
       "    .dataframe thead th {\n",
       "        text-align: right;\n",
       "    }\n",
       "</style>\n",
       "<table border=\"1\" class=\"dataframe\">\n",
       "  <thead>\n",
       "    <tr style=\"text-align: right;\">\n",
       "      <th></th>\n",
       "      <th>Sales</th>\n",
       "    </tr>\n",
       "  </thead>\n",
       "  <tbody>\n",
       "    <tr>\n",
       "      <th>count</th>\n",
       "      <td>42.000000</td>\n",
       "    </tr>\n",
       "    <tr>\n",
       "      <th>mean</th>\n",
       "      <td>2994.353308</td>\n",
       "    </tr>\n",
       "    <tr>\n",
       "      <th>std</th>\n",
       "      <td>977.930896</td>\n",
       "    </tr>\n",
       "    <tr>\n",
       "      <th>min</th>\n",
       "      <td>1547.818996</td>\n",
       "    </tr>\n",
       "    <tr>\n",
       "      <th>25%</th>\n",
       "      <td>2159.714246</td>\n",
       "    </tr>\n",
       "    <tr>\n",
       "      <th>50%</th>\n",
       "      <td>2782.376999</td>\n",
       "    </tr>\n",
       "    <tr>\n",
       "      <th>75%</th>\n",
       "      <td>3609.250000</td>\n",
       "    </tr>\n",
       "    <tr>\n",
       "      <th>max</th>\n",
       "      <td>5253.000000</td>\n",
       "    </tr>\n",
       "  </tbody>\n",
       "</table>\n",
       "</div>"
      ],
      "text/plain": [
       "             Sales\n",
       "count    42.000000\n",
       "mean   2994.353308\n",
       "std     977.930896\n",
       "min    1547.818996\n",
       "25%    2159.714246\n",
       "50%    2782.376999\n",
       "75%    3609.250000\n",
       "max    5253.000000"
      ]
     },
     "execution_count": 68,
     "metadata": {},
     "output_type": "execute_result"
    }
   ],
   "source": [
    "coca.describe()"
   ]
  },
  {
   "cell_type": "code",
   "execution_count": 69,
   "metadata": {},
   "outputs": [
    {
     "name": "stderr",
     "output_type": "stream",
     "text": [
      "C:\\Users\\RajabhishekAditya\\anaconda3\\lib\\site-packages\\seaborn\\distributions.py:2551: FutureWarning: `distplot` is a deprecated function and will be removed in a future version. Please adapt your code to use either `displot` (a figure-level function with similar flexibility) or `histplot` (an axes-level function for histograms).\n",
      "  warnings.warn(msg, FutureWarning)\n"
     ]
    },
    {
     "name": "stdout",
     "output_type": "stream",
     "text": [
      "Skewness: 0.630162\n",
      "Kurtosis: -0.584372\n"
     ]
    },
    {
     "data": {
      "image/png": "[encoded data removed]",
      "text/plain": [
       "<Figure size 432x288 with 1 Axes>"
      ]
     },
     "metadata": {
      "needs_background": "light"
     },
     "output_type": "display_data"
    }
   ],
   "source": [
    "sns.distplot(coca['Sales'])\n",
    "#skewness and kurtosis\n",
    "print(\"Skewness: %f\" % coca.skew())\n",
    "print(\"Kurtosis: %f\" % coca.kurt())"
   ]
  },
  {
   "cell_type": "code",
   "execution_count": 70,
   "metadata": {},
   "outputs": [
    {
     "name": "stdout",
     "output_type": "stream",
     "text": [
      "Sales    1.0\n",
      "Name: Sales, dtype: float64\n"
     ]
    }
   ],
   "source": [
    "corr = coca.corr()\n",
    "corr.sort_values([\"Sales\"], ascending = False, inplace = True)\n",
    "print(corr.Sales)"
   ]
  },
  {
   "cell_type": "code",
   "execution_count": 71,
   "metadata": {},
   "outputs": [
    {
     "data": {
      "image/png": "[encoded data removed]",
      "text/plain": [
       "<Figure size 432x288 with 1 Axes>"
      ]
     },
     "metadata": {
      "needs_background": "light"
     },
     "output_type": "display_data"
    }
   ],
   "source": [
    "coca.plot()\n",
    "pyplot.show()"
   ]
  },
  {
   "cell_type": "code",
   "execution_count": 72,
   "metadata": {},
   "outputs": [
    {
     "data": {
      "image/png": "[encoded data removed]",
      "text/plain": [
       "<Figure size 432x288 with 1 Axes>"
      ]
     },
     "metadata": {
      "needs_background": "light"
     },
     "output_type": "display_data"
    }
   ],
   "source": [
    "from pandas.plotting import lag_plot\n",
    "coca.plot(kind='kde')\n",
    "pyplot.show()"
   ]
  },
  {
   "cell_type": "code",
   "execution_count": 73,
   "metadata": {},
   "outputs": [
    {
     "data": {
      "text/plain": [
       "<AxesSubplot:xlabel='Quarter', ylabel='Sales'>"
      ]
     },
     "execution_count": 73,
     "metadata": {},
     "output_type": "execute_result"
    },
    {
     "data": {
      "image/png": "[encoded data removed]",
      "text/plain": [
       "<Figure size 1800x216 with 1 Axes>"
      ]
     },
     "metadata": {
      "needs_background": "light"
     },
     "output_type": "display_data"
    }
   ],
   "source": [
    "import matplotlib.pyplot as plt\n",
    "plt.figure(figsize=(25,3))\n",
    "sns.lineplot(x=\"Quarter\",y=\"Sales\",data=coca)"
   ]
  },
  {
   "cell_type": "code",
   "execution_count": 75,
   "metadata": {},
   "outputs": [
    {
     "name": "stderr",
     "output_type": "stream",
     "text": [
      "<ipython-input-75-6d5dfc227f7c>:10: SettingWithCopyWarning: \n",
      "A value is trying to be set on a copy of a slice from a DataFrame\n",
      "\n",
      "See the caveats in the documentation: https://pandas.pydata.org/pandas-docs/stable/user_guide/indexing.html#returning-a-view-versus-a-copy\n",
      "  coca['quarter'][i]=n[0:2]\n",
      "C:\\Users\\RajabhishekAditya\\anaconda3\\lib\\site-packages\\pandas\\core\\indexing.py:670: SettingWithCopyWarning: \n",
      "A value is trying to be set on a copy of a slice from a DataFrame\n",
      "\n",
      "See the caveats in the documentation: https://pandas.pydata.org/pandas-docs/stable/user_guide/indexing.html#returning-a-view-versus-a-copy\n",
      "  iloc._setitem_with_indexer(indexer, value)\n"
     ]
    },
    {
     "data": {
      "text/html": [
       "<div>\n",
       "<style scoped>\n",
       "    .dataframe tbody tr th:only-of-type {\n",
       "        vertical-align: middle;\n",
       "    }\n",
       "\n",
       "    .dataframe tbody tr th {\n",
       "        vertical-align: top;\n",
       "    }\n",
       "\n",
       "    .dataframe thead th {\n",
       "        text-align: right;\n",
       "    }\n",
       "</style>\n",
       "<table border=\"1\" class=\"dataframe\">\n",
       "  <thead>\n",
       "    <tr style=\"text-align: right;\">\n",
       "      <th></th>\n",
       "      <th>Quarter</th>\n",
       "      <th>Sales</th>\n",
       "      <th>quarter</th>\n",
       "      <th>Q1</th>\n",
       "      <th>Q2</th>\n",
       "      <th>Q3</th>\n",
       "      <th>Q4</th>\n",
       "      <th>t</th>\n",
       "      <th>t_square</th>\n",
       "    </tr>\n",
       "  </thead>\n",
       "  <tbody>\n",
       "    <tr>\n",
       "      <th>0</th>\n",
       "      <td>Q1_86</td>\n",
       "      <td>1734.827000</td>\n",
       "      <td>Q1</td>\n",
       "      <td>1</td>\n",
       "      <td>0</td>\n",
       "      <td>0</td>\n",
       "      <td>0</td>\n",
       "      <td>1</td>\n",
       "      <td>1</td>\n",
       "    </tr>\n",
       "    <tr>\n",
       "      <th>1</th>\n",
       "      <td>Q2_86</td>\n",
       "      <td>2244.960999</td>\n",
       "      <td>Q2</td>\n",
       "      <td>0</td>\n",
       "      <td>1</td>\n",
       "      <td>0</td>\n",
       "      <td>0</td>\n",
       "      <td>2</td>\n",
       "      <td>4</td>\n",
       "    </tr>\n",
       "    <tr>\n",
       "      <th>2</th>\n",
       "      <td>Q3_86</td>\n",
       "      <td>2533.804993</td>\n",
       "      <td>Q3</td>\n",
       "      <td>0</td>\n",
       "      <td>0</td>\n",
       "      <td>1</td>\n",
       "      <td>0</td>\n",
       "      <td>3</td>\n",
       "      <td>9</td>\n",
       "    </tr>\n",
       "    <tr>\n",
       "      <th>3</th>\n",
       "      <td>Q4_86</td>\n",
       "      <td>2154.962997</td>\n",
       "      <td>Q4</td>\n",
       "      <td>0</td>\n",
       "      <td>0</td>\n",
       "      <td>0</td>\n",
       "      <td>1</td>\n",
       "      <td>4</td>\n",
       "      <td>16</td>\n",
       "    </tr>\n",
       "    <tr>\n",
       "      <th>4</th>\n",
       "      <td>Q1_87</td>\n",
       "      <td>1547.818996</td>\n",
       "      <td>Q1</td>\n",
       "      <td>1</td>\n",
       "      <td>0</td>\n",
       "      <td>0</td>\n",
       "      <td>0</td>\n",
       "      <td>5</td>\n",
       "      <td>25</td>\n",
       "    </tr>\n",
       "    <tr>\n",
       "      <th>5</th>\n",
       "      <td>Q2_87</td>\n",
       "      <td>2104.411995</td>\n",
       "      <td>Q2</td>\n",
       "      <td>0</td>\n",
       "      <td>1</td>\n",
       "      <td>0</td>\n",
       "      <td>0</td>\n",
       "      <td>6</td>\n",
       "      <td>36</td>\n",
       "    </tr>\n",
       "    <tr>\n",
       "      <th>6</th>\n",
       "      <td>Q3_87</td>\n",
       "      <td>2014.362999</td>\n",
       "      <td>Q3</td>\n",
       "      <td>0</td>\n",
       "      <td>0</td>\n",
       "      <td>1</td>\n",
       "      <td>0</td>\n",
       "      <td>7</td>\n",
       "      <td>49</td>\n",
       "    </tr>\n",
       "    <tr>\n",
       "      <th>7</th>\n",
       "      <td>Q4_87</td>\n",
       "      <td>1991.746998</td>\n",
       "      <td>Q4</td>\n",
       "      <td>0</td>\n",
       "      <td>0</td>\n",
       "      <td>0</td>\n",
       "      <td>1</td>\n",
       "      <td>8</td>\n",
       "      <td>64</td>\n",
       "    </tr>\n",
       "    <tr>\n",
       "      <th>8</th>\n",
       "      <td>Q1_88</td>\n",
       "      <td>1869.049999</td>\n",
       "      <td>Q1</td>\n",
       "      <td>1</td>\n",
       "      <td>0</td>\n",
       "      <td>0</td>\n",
       "      <td>0</td>\n",
       "      <td>9</td>\n",
       "      <td>81</td>\n",
       "    </tr>\n",
       "    <tr>\n",
       "      <th>9</th>\n",
       "      <td>Q2_88</td>\n",
       "      <td>2313.631996</td>\n",
       "      <td>Q2</td>\n",
       "      <td>0</td>\n",
       "      <td>1</td>\n",
       "      <td>0</td>\n",
       "      <td>0</td>\n",
       "      <td>10</td>\n",
       "      <td>100</td>\n",
       "    </tr>\n",
       "    <tr>\n",
       "      <th>10</th>\n",
       "      <td>Q3_88</td>\n",
       "      <td>2128.320000</td>\n",
       "      <td>Q3</td>\n",
       "      <td>0</td>\n",
       "      <td>0</td>\n",
       "      <td>1</td>\n",
       "      <td>0</td>\n",
       "      <td>11</td>\n",
       "      <td>121</td>\n",
       "    </tr>\n",
       "    <tr>\n",
       "      <th>11</th>\n",
       "      <td>Q4_88</td>\n",
       "      <td>2026.828999</td>\n",
       "      <td>Q4</td>\n",
       "      <td>0</td>\n",
       "      <td>0</td>\n",
       "      <td>0</td>\n",
       "      <td>1</td>\n",
       "      <td>12</td>\n",
       "      <td>144</td>\n",
       "    </tr>\n",
       "    <tr>\n",
       "      <th>12</th>\n",
       "      <td>Q1_89</td>\n",
       "      <td>1910.603996</td>\n",
       "      <td>Q1</td>\n",
       "      <td>1</td>\n",
       "      <td>0</td>\n",
       "      <td>0</td>\n",
       "      <td>0</td>\n",
       "      <td>13</td>\n",
       "      <td>169</td>\n",
       "    </tr>\n",
       "    <tr>\n",
       "      <th>13</th>\n",
       "      <td>Q2_89</td>\n",
       "      <td>2331.164993</td>\n",
       "      <td>Q2</td>\n",
       "      <td>0</td>\n",
       "      <td>1</td>\n",
       "      <td>0</td>\n",
       "      <td>0</td>\n",
       "      <td>14</td>\n",
       "      <td>196</td>\n",
       "    </tr>\n",
       "    <tr>\n",
       "      <th>14</th>\n",
       "      <td>Q3_89</td>\n",
       "      <td>2206.549995</td>\n",
       "      <td>Q3</td>\n",
       "      <td>0</td>\n",
       "      <td>0</td>\n",
       "      <td>1</td>\n",
       "      <td>0</td>\n",
       "      <td>15</td>\n",
       "      <td>225</td>\n",
       "    </tr>\n",
       "    <tr>\n",
       "      <th>15</th>\n",
       "      <td>Q4_89</td>\n",
       "      <td>2173.967995</td>\n",
       "      <td>Q4</td>\n",
       "      <td>0</td>\n",
       "      <td>0</td>\n",
       "      <td>0</td>\n",
       "      <td>1</td>\n",
       "      <td>16</td>\n",
       "      <td>256</td>\n",
       "    </tr>\n",
       "    <tr>\n",
       "      <th>16</th>\n",
       "      <td>Q1_90</td>\n",
       "      <td>2148.278000</td>\n",
       "      <td>Q1</td>\n",
       "      <td>1</td>\n",
       "      <td>0</td>\n",
       "      <td>0</td>\n",
       "      <td>0</td>\n",
       "      <td>17</td>\n",
       "      <td>289</td>\n",
       "    </tr>\n",
       "    <tr>\n",
       "      <th>17</th>\n",
       "      <td>Q2_90</td>\n",
       "      <td>2739.307999</td>\n",
       "      <td>Q2</td>\n",
       "      <td>0</td>\n",
       "      <td>1</td>\n",
       "      <td>0</td>\n",
       "      <td>0</td>\n",
       "      <td>18</td>\n",
       "      <td>324</td>\n",
       "    </tr>\n",
       "    <tr>\n",
       "      <th>18</th>\n",
       "      <td>Q3_90</td>\n",
       "      <td>2792.753998</td>\n",
       "      <td>Q3</td>\n",
       "      <td>0</td>\n",
       "      <td>0</td>\n",
       "      <td>1</td>\n",
       "      <td>0</td>\n",
       "      <td>19</td>\n",
       "      <td>361</td>\n",
       "    </tr>\n",
       "    <tr>\n",
       "      <th>19</th>\n",
       "      <td>Q4_90</td>\n",
       "      <td>2556.009995</td>\n",
       "      <td>Q4</td>\n",
       "      <td>0</td>\n",
       "      <td>0</td>\n",
       "      <td>0</td>\n",
       "      <td>1</td>\n",
       "      <td>20</td>\n",
       "      <td>400</td>\n",
       "    </tr>\n",
       "    <tr>\n",
       "      <th>20</th>\n",
       "      <td>Q1_91</td>\n",
       "      <td>2480.973999</td>\n",
       "      <td>Q1</td>\n",
       "      <td>1</td>\n",
       "      <td>0</td>\n",
       "      <td>0</td>\n",
       "      <td>0</td>\n",
       "      <td>21</td>\n",
       "      <td>441</td>\n",
       "    </tr>\n",
       "    <tr>\n",
       "      <th>21</th>\n",
       "      <td>Q2_91</td>\n",
       "      <td>3039.522995</td>\n",
       "      <td>Q2</td>\n",
       "      <td>0</td>\n",
       "      <td>1</td>\n",
       "      <td>0</td>\n",
       "      <td>0</td>\n",
       "      <td>22</td>\n",
       "      <td>484</td>\n",
       "    </tr>\n",
       "    <tr>\n",
       "      <th>22</th>\n",
       "      <td>Q3_91</td>\n",
       "      <td>3172.115997</td>\n",
       "      <td>Q3</td>\n",
       "      <td>0</td>\n",
       "      <td>0</td>\n",
       "      <td>1</td>\n",
       "      <td>0</td>\n",
       "      <td>23</td>\n",
       "      <td>529</td>\n",
       "    </tr>\n",
       "    <tr>\n",
       "      <th>23</th>\n",
       "      <td>Q4_91</td>\n",
       "      <td>2879.000999</td>\n",
       "      <td>Q4</td>\n",
       "      <td>0</td>\n",
       "      <td>0</td>\n",
       "      <td>0</td>\n",
       "      <td>1</td>\n",
       "      <td>24</td>\n",
       "      <td>576</td>\n",
       "    </tr>\n",
       "    <tr>\n",
       "      <th>24</th>\n",
       "      <td>Q1_92</td>\n",
       "      <td>2772.000000</td>\n",
       "      <td>Q1</td>\n",
       "      <td>1</td>\n",
       "      <td>0</td>\n",
       "      <td>0</td>\n",
       "      <td>0</td>\n",
       "      <td>25</td>\n",
       "      <td>625</td>\n",
       "    </tr>\n",
       "    <tr>\n",
       "      <th>25</th>\n",
       "      <td>Q2_92</td>\n",
       "      <td>3550.000000</td>\n",
       "      <td>Q2</td>\n",
       "      <td>0</td>\n",
       "      <td>1</td>\n",
       "      <td>0</td>\n",
       "      <td>0</td>\n",
       "      <td>26</td>\n",
       "      <td>676</td>\n",
       "    </tr>\n",
       "    <tr>\n",
       "      <th>26</th>\n",
       "      <td>Q3_92</td>\n",
       "      <td>3508.000000</td>\n",
       "      <td>Q3</td>\n",
       "      <td>0</td>\n",
       "      <td>0</td>\n",
       "      <td>1</td>\n",
       "      <td>0</td>\n",
       "      <td>27</td>\n",
       "      <td>729</td>\n",
       "    </tr>\n",
       "    <tr>\n",
       "      <th>27</th>\n",
       "      <td>Q4_92</td>\n",
       "      <td>3243.859993</td>\n",
       "      <td>Q4</td>\n",
       "      <td>0</td>\n",
       "      <td>0</td>\n",
       "      <td>0</td>\n",
       "      <td>1</td>\n",
       "      <td>28</td>\n",
       "      <td>784</td>\n",
       "    </tr>\n",
       "    <tr>\n",
       "      <th>28</th>\n",
       "      <td>Q1_93</td>\n",
       "      <td>3056.000000</td>\n",
       "      <td>Q1</td>\n",
       "      <td>1</td>\n",
       "      <td>0</td>\n",
       "      <td>0</td>\n",
       "      <td>0</td>\n",
       "      <td>29</td>\n",
       "      <td>841</td>\n",
       "    </tr>\n",
       "    <tr>\n",
       "      <th>29</th>\n",
       "      <td>Q2_93</td>\n",
       "      <td>3899.000000</td>\n",
       "      <td>Q2</td>\n",
       "      <td>0</td>\n",
       "      <td>1</td>\n",
       "      <td>0</td>\n",
       "      <td>0</td>\n",
       "      <td>30</td>\n",
       "      <td>900</td>\n",
       "    </tr>\n",
       "    <tr>\n",
       "      <th>30</th>\n",
       "      <td>Q3_93</td>\n",
       "      <td>3629.000000</td>\n",
       "      <td>Q3</td>\n",
       "      <td>0</td>\n",
       "      <td>0</td>\n",
       "      <td>1</td>\n",
       "      <td>0</td>\n",
       "      <td>31</td>\n",
       "      <td>961</td>\n",
       "    </tr>\n",
       "    <tr>\n",
       "      <th>31</th>\n",
       "      <td>Q4_93</td>\n",
       "      <td>3373.000000</td>\n",
       "      <td>Q4</td>\n",
       "      <td>0</td>\n",
       "      <td>0</td>\n",
       "      <td>0</td>\n",
       "      <td>1</td>\n",
       "      <td>32</td>\n",
       "      <td>1024</td>\n",
       "    </tr>\n",
       "    <tr>\n",
       "      <th>32</th>\n",
       "      <td>Q1_94</td>\n",
       "      <td>3352.000000</td>\n",
       "      <td>Q1</td>\n",
       "      <td>1</td>\n",
       "      <td>0</td>\n",
       "      <td>0</td>\n",
       "      <td>0</td>\n",
       "      <td>33</td>\n",
       "      <td>1089</td>\n",
       "    </tr>\n",
       "    <tr>\n",
       "      <th>33</th>\n",
       "      <td>Q2_94</td>\n",
       "      <td>4342.000000</td>\n",
       "      <td>Q2</td>\n",
       "      <td>0</td>\n",
       "      <td>1</td>\n",
       "      <td>0</td>\n",
       "      <td>0</td>\n",
       "      <td>34</td>\n",
       "      <td>1156</td>\n",
       "    </tr>\n",
       "    <tr>\n",
       "      <th>34</th>\n",
       "      <td>Q3_94</td>\n",
       "      <td>4461.000000</td>\n",
       "      <td>Q3</td>\n",
       "      <td>0</td>\n",
       "      <td>0</td>\n",
       "      <td>1</td>\n",
       "      <td>0</td>\n",
       "      <td>35</td>\n",
       "      <td>1225</td>\n",
       "    </tr>\n",
       "    <tr>\n",
       "      <th>35</th>\n",
       "      <td>Q4_94</td>\n",
       "      <td>4017.000000</td>\n",
       "      <td>Q4</td>\n",
       "      <td>0</td>\n",
       "      <td>0</td>\n",
       "      <td>0</td>\n",
       "      <td>1</td>\n",
       "      <td>36</td>\n",
       "      <td>1296</td>\n",
       "    </tr>\n",
       "    <tr>\n",
       "      <th>36</th>\n",
       "      <td>Q1_95</td>\n",
       "      <td>3854.000000</td>\n",
       "      <td>Q1</td>\n",
       "      <td>1</td>\n",
       "      <td>0</td>\n",
       "      <td>0</td>\n",
       "      <td>0</td>\n",
       "      <td>37</td>\n",
       "      <td>1369</td>\n",
       "    </tr>\n",
       "    <tr>\n",
       "      <th>37</th>\n",
       "      <td>Q2_95</td>\n",
       "      <td>4936.000000</td>\n",
       "      <td>Q2</td>\n",
       "      <td>0</td>\n",
       "      <td>1</td>\n",
       "      <td>0</td>\n",
       "      <td>0</td>\n",
       "      <td>38</td>\n",
       "      <td>1444</td>\n",
       "    </tr>\n",
       "    <tr>\n",
       "      <th>38</th>\n",
       "      <td>Q3_95</td>\n",
       "      <td>4895.000000</td>\n",
       "      <td>Q3</td>\n",
       "      <td>0</td>\n",
       "      <td>0</td>\n",
       "      <td>1</td>\n",
       "      <td>0</td>\n",
       "      <td>39</td>\n",
       "      <td>1521</td>\n",
       "    </tr>\n",
       "    <tr>\n",
       "      <th>39</th>\n",
       "      <td>Q4_95</td>\n",
       "      <td>4333.000000</td>\n",
       "      <td>Q4</td>\n",
       "      <td>0</td>\n",
       "      <td>0</td>\n",
       "      <td>0</td>\n",
       "      <td>1</td>\n",
       "      <td>40</td>\n",
       "      <td>1600</td>\n",
       "    </tr>\n",
       "    <tr>\n",
       "      <th>40</th>\n",
       "      <td>Q1_96</td>\n",
       "      <td>4194.000000</td>\n",
       "      <td>Q1</td>\n",
       "      <td>1</td>\n",
       "      <td>0</td>\n",
       "      <td>0</td>\n",
       "      <td>0</td>\n",
       "      <td>41</td>\n",
       "      <td>1681</td>\n",
       "    </tr>\n",
       "    <tr>\n",
       "      <th>41</th>\n",
       "      <td>Q2_96</td>\n",
       "      <td>5253.000000</td>\n",
       "      <td>Q2</td>\n",
       "      <td>0</td>\n",
       "      <td>1</td>\n",
       "      <td>0</td>\n",
       "      <td>0</td>\n",
       "      <td>42</td>\n",
       "      <td>1764</td>\n",
       "    </tr>\n",
       "  </tbody>\n",
       "</table>\n",
       "</div>"
      ],
      "text/plain": [
       "   Quarter        Sales quarter  Q1  Q2  Q3  Q4   t  t_square\n",
       "0    Q1_86  1734.827000      Q1   1   0   0   0   1         1\n",
       "1    Q2_86  2244.960999      Q2   0   1   0   0   2         4\n",
       "2    Q3_86  2533.804993      Q3   0   0   1   0   3         9\n",
       "3    Q4_86  2154.962997      Q4   0   0   0   1   4        16\n",
       "4    Q1_87  1547.818996      Q1   1   0   0   0   5        25\n",
       "5    Q2_87  2104.411995      Q2   0   1   0   0   6        36\n",
       "6    Q3_87  2014.362999      Q3   0   0   1   0   7        49\n",
       "7    Q4_87  1991.746998      Q4   0   0   0   1   8        64\n",
       "8    Q1_88  1869.049999      Q1   1   0   0   0   9        81\n",
       "9    Q2_88  2313.631996      Q2   0   1   0   0  10       100\n",
       "10   Q3_88  2128.320000      Q3   0   0   1   0  11       121\n",
       "11   Q4_88  2026.828999      Q4   0   0   0   1  12       144\n",
       "12   Q1_89  1910.603996      Q1   1   0   0   0  13       169\n",
       "13   Q2_89  2331.164993      Q2   0   1   0   0  14       196\n",
       "14   Q3_89  2206.549995      Q3   0   0   1   0  15       225\n",
       "15   Q4_89  2173.967995      Q4   0   0   0   1  16       256\n",
       "16   Q1_90  2148.278000      Q1   1   0   0   0  17       289\n",
       "17   Q2_90  2739.307999      Q2   0   1   0   0  18       324\n",
       "18   Q3_90  2792.753998      Q3   0   0   1   0  19       361\n",
       "19   Q4_90  2556.009995      Q4   0   0   0   1  20       400\n",
       "20   Q1_91  2480.973999      Q1   1   0   0   0  21       441\n",
       "21   Q2_91  3039.522995      Q2   0   1   0   0  22       484\n",
       "22   Q3_91  3172.115997      Q3   0   0   1   0  23       529\n",
       "23   Q4_91  2879.000999      Q4   0   0   0   1  24       576\n",
       "24   Q1_92  2772.000000      Q1   1   0   0   0  25       625\n",
       "25   Q2_92  3550.000000      Q2   0   1   0   0  26       676\n",
       "26   Q3_92  3508.000000      Q3   0   0   1   0  27       729\n",
       "27   Q4_92  3243.859993      Q4   0   0   0   1  28       784\n",
       "28   Q1_93  3056.000000      Q1   1   0   0   0  29       841\n",
       "29   Q2_93  3899.000000      Q2   0   1   0   0  30       900\n",
       "30   Q3_93  3629.000000      Q3   0   0   1   0  31       961\n",
       "31   Q4_93  3373.000000      Q4   0   0   0   1  32      1024\n",
       "32   Q1_94  3352.000000      Q1   1   0   0   0  33      1089\n",
       "33   Q2_94  4342.000000      Q2   0   1   0   0  34      1156\n",
       "34   Q3_94  4461.000000      Q3   0   0   1   0  35      1225\n",
       "35   Q4_94  4017.000000      Q4   0   0   0   1  36      1296\n",
       "36   Q1_95  3854.000000      Q1   1   0   0   0  37      1369\n",
       "37   Q2_95  4936.000000      Q2   0   1   0   0  38      1444\n",
       "38   Q3_95  4895.000000      Q3   0   0   1   0  39      1521\n",
       "39   Q4_95  4333.000000      Q4   0   0   0   1  40      1600\n",
       "40   Q1_96  4194.000000      Q1   1   0   0   0  41      1681\n",
       "41   Q2_96  5253.000000      Q2   0   1   0   0  42      1764"
      ]
     },
     "execution_count": 75,
     "metadata": {},
     "output_type": "execute_result"
    }
   ],
   "source": [
    "import numpy as np\n",
    "quarter=['Q1','Q2','Q3','Q4']\n",
    "n=coca['Quarter'][0]\n",
    "n[0:2]\n",
    "\n",
    "coca['quarter']=0\n",
    "\n",
    "for i in range(42):\n",
    "    n=coca['Quarter'][i]\n",
    "    coca['quarter'][i]=n[0:2]\n",
    "    \n",
    "dummy=pd.DataFrame(pd.get_dummies(coca['quarter']))\n",
    "\n",
    "coco=pd.concat((coca,dummy),axis=1)\n",
    "t= np.arange(1,43)\n",
    "coco['t']=t\n",
    "coco['t_square']=coco['t']*coco['t']\n",
    "coco"
   ]
  },
  {
   "cell_type": "code",
   "execution_count": 76,
   "metadata": {},
   "outputs": [
    {
     "name": "stdout",
     "output_type": "stream",
     "text": [
      "<class 'pandas.core.frame.DataFrame'>\n",
      "RangeIndex: 42 entries, 0 to 41\n",
      "Data columns (total 9 columns):\n",
      " #   Column    Non-Null Count  Dtype  \n",
      "---  ------    --------------  -----  \n",
      " 0   Quarter   42 non-null     object \n",
      " 1   Sales     42 non-null     float64\n",
      " 2   quarter   42 non-null     object \n",
      " 3   Q1        42 non-null     uint8  \n",
      " 4   Q2        42 non-null     uint8  \n",
      " 5   Q3        42 non-null     uint8  \n",
      " 6   Q4        42 non-null     uint8  \n",
      " 7   t         42 non-null     int32  \n",
      " 8   t_square  42 non-null     int32  \n",
      "dtypes: float64(1), int32(2), object(2), uint8(4)\n",
      "memory usage: 1.6+ KB\n"
     ]
    }
   ],
   "source": [
    "coco.info()"
   ]
  },
  {
   "cell_type": "code",
   "execution_count": 77,
   "metadata": {},
   "outputs": [
    {
     "data": {
      "text/plain": [
       "<AxesSubplot:>"
      ]
     },
     "execution_count": 77,
     "metadata": {},
     "output_type": "execute_result"
    },
    {
     "data": {
      "image/png": "[encoded data removed]",
      "text/plain": [
       "<Figure size 432x288 with 1 Axes>"
      ]
     },
     "metadata": {
      "needs_background": "light"
     },
     "output_type": "display_data"
    }
   ],
   "source": [
    "log_Sales=np.log(coco['Sales'])\n",
    "coco['log_Sales']=log_Sales\n",
    "\n",
    "train= coco.head(38)\n",
    "test=coco.tail(4)\n",
    "coco.Sales.plot()"
   ]
  },
  {
   "cell_type": "code",
   "execution_count": 124,
   "metadata": {},
   "outputs": [
    {
     "data": {
      "text/plain": [
       "421.17878763677913"
      ]
     },
     "execution_count": 124,
     "metadata": {},
     "output_type": "execute_result"
    }
   ],
   "source": [
    "#Linear Model\n",
    "import statsmodels.formula.api as smf \n",
    "\n",
    "#linear model\n",
    "linear= smf.ols('Sales~t',data=train).fit()\n",
    "predlin=pd.Series(linear.predict(pd.DataFrame(test['t'])))\n",
    "rmselin=np.sqrt((np.mean(np.array(test['Sales'])-np.array(predlin))**2))\n",
    "rmselin\n"
   ]
  },
  {
   "cell_type": "code",
   "execution_count": 125,
   "metadata": {},
   "outputs": [
    {
     "data": {
      "text/plain": [
       "475.5618351982028"
      ]
     },
     "execution_count": 125,
     "metadata": {},
     "output_type": "execute_result"
    }
   ],
   "source": [
    "#quadratic model\n",
    "quad=smf.ols('Sales~t+t_square',data=train).fit()\n",
    "predquad=pd.Series(quad.predict(pd.DataFrame(test[['t','t_square']])))\n",
    "rmsequad=np.sqrt(np.mean((np.array(test['Sales'])-np.array(predquad))**2))\n",
    "rmsequad"
   ]
  },
  {
   "cell_type": "code",
   "execution_count": 126,
   "metadata": {},
   "outputs": [
    {
     "data": {
      "text/plain": [
       "466.24797313210684"
      ]
     },
     "execution_count": 126,
     "metadata": {},
     "output_type": "execute_result"
    }
   ],
   "source": [
    "#exponential model\n",
    "expo=smf.ols('log_Sales~t',data=train).fit()\n",
    "predexp=pd.Series(expo.predict(pd.DataFrame(test['t'])))\n",
    "predexp\n",
    "rmseexpo=np.sqrt(np.mean((np.array(test['Sales'])-np.array(np.exp(predexp)))**2))\n",
    "rmseexpo\n"
   ]
  },
  {
   "cell_type": "code",
   "execution_count": 127,
   "metadata": {},
   "outputs": [
    {
     "data": {
      "text/plain": [
       "1860.0238154374442"
      ]
     },
     "execution_count": 127,
     "metadata": {},
     "output_type": "execute_result"
    }
   ],
   "source": [
    "#additive seasonality\n",
    "additive= smf.ols('Sales~ Q1+Q2+Q3+Q4',data=train).fit()\n",
    "predadd=pd.Series(additive.predict(pd.DataFrame(test[['Q1','Q2','Q3','Q4']])))\n",
    "predadd\n",
    "rmseadd=np.sqrt(np.mean((np.array(test['Sales'])-np.array(predadd))**2))\n",
    "rmseadd"
   ]
  },
  {
   "cell_type": "code",
   "execution_count": 128,
   "metadata": {},
   "outputs": [
    {
     "data": {
      "text/plain": [
       "464.9829024280397"
      ]
     },
     "execution_count": 128,
     "metadata": {},
     "output_type": "execute_result"
    }
   ],
   "source": [
    "#additive seasonality with linear trend\n",
    "addlinear= smf.ols('Sales~t+Q1+Q2+Q3+Q4',data=train).fit()\n",
    "predaddlinear=pd.Series(addlinear.predict(pd.DataFrame(test[['t','Q1','Q2','Q3','Q4']])))\n",
    "predaddlinear\n",
    "rmseaddlinear=np.sqrt(np.mean((np.array(test['Sales'])-np.array(predaddlinear))**2))\n",
    "rmseaddlinear"
   ]
  },
  {
   "cell_type": "code",
   "execution_count": 129,
   "metadata": {},
   "outputs": [
    {
     "data": {
      "text/plain": [
       "301.7380072146158"
      ]
     },
     "execution_count": 129,
     "metadata": {},
     "output_type": "execute_result"
    }
   ],
   "source": [
    "#additive seasonality with quadratic trend\n",
    "addquad=smf.ols('Sales~t+t_square+Q1+Q2+Q3+Q4',data=train).fit()\n",
    "predaddquad=pd.Series(addquad.predict(pd.DataFrame(test[['t','t_square','Q1','Q2','Q3','Q4']])))\n",
    "rmseaddquad=np.sqrt(np.mean((np.array(test['Sales'])-np.array(predaddquad))**2))\n",
    "rmseaddquad"
   ]
  },
  {
   "cell_type": "code",
   "execution_count": 130,
   "metadata": {},
   "outputs": [
    {
     "data": {
      "text/plain": [
       "1963.38964005634"
      ]
     },
     "execution_count": 130,
     "metadata": {},
     "output_type": "execute_result"
    }
   ],
   "source": [
    "#multiplicative seasonality\n",
    "mulsea=smf.ols('log_Sales~Q1+Q2+Q3+Q4',data=train).fit()\n",
    "predmul= pd.Series(mulsea.predict(pd.DataFrame(test[['Q1','Q2','Q3','Q4']])))\n",
    "rmsemul= np.sqrt(np.mean((np.array(test['Sales'])-np.array(np.exp(predmul)))**2))\n",
    "rmsemul\n"
   ]
  },
  {
   "cell_type": "code",
   "execution_count": 131,
   "metadata": {},
   "outputs": [
    {
     "data": {
      "text/plain": [
       "225.52439056170334"
      ]
     },
     "execution_count": 131,
     "metadata": {},
     "output_type": "execute_result"
    }
   ],
   "source": [
    "#multiplicative seasonality with linear trend\n",
    "mullin= smf.ols('log_Sales~t+Q1+Q2+Q3+Q4',data=train).fit()\n",
    "predmullin= pd.Series(mullin.predict(pd.DataFrame(test[['t','Q1','Q2','Q3','Q4']])))\n",
    "rmsemulin=np.sqrt(np.mean((np.array(test['Sales'])-np.array(np.exp(predmullin)))**2))\n",
    "rmsemulin"
   ]
  },
  {
   "cell_type": "code",
   "execution_count": 132,
   "metadata": {},
   "outputs": [
    {
     "data": {
      "text/plain": [
       "581.845718923512"
      ]
     },
     "execution_count": 132,
     "metadata": {},
     "output_type": "execute_result"
    }
   ],
   "source": [
    "#multiplicative seasonality with quadratic trend\n",
    "mul_quad= smf.ols('log_Sales~t+t_square+Q1+Q2+Q3+Q4',data=train).fit()\n",
    "pred_mul_quad= pd.Series(mul_quad.predict(test[['t','t_square','Q1','Q2','Q3','Q4']]))\n",
    "rmse_mul_quad=np.sqrt(np.mean((np.array(test['Sales'])-np.array(np.exp(pred_mul_quad)))**2))\n",
    "rmse_mul_quad\n"
   ]
  },
  {
   "cell_type": "code",
   "execution_count": 133,
   "metadata": {},
   "outputs": [
    {
     "data": {
      "text/html": [
       "<div>\n",
       "<style scoped>\n",
       "    .dataframe tbody tr th:only-of-type {\n",
       "        vertical-align: middle;\n",
       "    }\n",
       "\n",
       "    .dataframe tbody tr th {\n",
       "        vertical-align: top;\n",
       "    }\n",
       "\n",
       "    .dataframe thead th {\n",
       "        text-align: right;\n",
       "    }\n",
       "</style>\n",
       "<table border=\"1\" class=\"dataframe\">\n",
       "  <thead>\n",
       "    <tr style=\"text-align: right;\">\n",
       "      <th></th>\n",
       "      <th>MODEL</th>\n",
       "      <th>Values</th>\n",
       "    </tr>\n",
       "  </thead>\n",
       "  <tbody>\n",
       "    <tr>\n",
       "      <th>0</th>\n",
       "      <td>rmse_mul_quad</td>\n",
       "      <td>581.845719</td>\n",
       "    </tr>\n",
       "    <tr>\n",
       "      <th>1</th>\n",
       "      <td>rmseadd</td>\n",
       "      <td>1860.023815</td>\n",
       "    </tr>\n",
       "    <tr>\n",
       "      <th>2</th>\n",
       "      <td>rmseaddlinear</td>\n",
       "      <td>464.982902</td>\n",
       "    </tr>\n",
       "    <tr>\n",
       "      <th>3</th>\n",
       "      <td>rmseaddquad</td>\n",
       "      <td>301.738007</td>\n",
       "    </tr>\n",
       "    <tr>\n",
       "      <th>4</th>\n",
       "      <td>rmseexpo</td>\n",
       "      <td>466.247973</td>\n",
       "    </tr>\n",
       "    <tr>\n",
       "      <th>5</th>\n",
       "      <td>rmselin</td>\n",
       "      <td>421.178788</td>\n",
       "    </tr>\n",
       "    <tr>\n",
       "      <th>6</th>\n",
       "      <td>rmsemul</td>\n",
       "      <td>1963.389640</td>\n",
       "    </tr>\n",
       "    <tr>\n",
       "      <th>7</th>\n",
       "      <td>rmsemulin</td>\n",
       "      <td>225.524391</td>\n",
       "    </tr>\n",
       "    <tr>\n",
       "      <th>8</th>\n",
       "      <td>rmsequad</td>\n",
       "      <td>475.561835</td>\n",
       "    </tr>\n",
       "  </tbody>\n",
       "</table>\n",
       "</div>"
      ],
      "text/plain": [
       "           MODEL       Values\n",
       "0  rmse_mul_quad   581.845719\n",
       "1        rmseadd  1860.023815\n",
       "2  rmseaddlinear   464.982902\n",
       "3    rmseaddquad   301.738007\n",
       "4       rmseexpo   466.247973\n",
       "5        rmselin   421.178788\n",
       "6        rmsemul  1963.389640\n",
       "7      rmsemulin   225.524391\n",
       "8       rmsequad   475.561835"
      ]
     },
     "execution_count": 133,
     "metadata": {},
     "output_type": "execute_result"
    }
   ],
   "source": [
    "#Compare the results \n",
    "\n",
    "data = {\"MODEL\":pd.Series(['rmse_mul_quad','rmseadd','rmseaddlinear','rmseaddquad','rmseexpo','rmselin','rmsemul','rmsemulin','rmsequad']),'Values':pd.Series([rmse_mul_quad,rmseadd,rmseaddlinear,rmseaddquad,rmseexpo,rmselin,rmsemul,rmsemulin,rmsequad])}\n",
    "table_rmse=pd.DataFrame(data)\n",
    "table_rmse"
   ]
  },
  {
   "cell_type": "code",
   "execution_count": 134,
   "metadata": {},
   "outputs": [],
   "source": [
    "#Build the model on entire data set\n",
    "model_full = smf.ols('Sales~Quarter',data=coco).fit()"
   ]
  },
  {
   "cell_type": "code",
   "execution_count": 135,
   "metadata": {},
   "outputs": [
    {
     "data": {
      "text/plain": [
       "<statsmodels.regression.linear_model.RegressionResultsWrapper at 0x1ea801a6940>"
      ]
     },
     "execution_count": 135,
     "metadata": {},
     "output_type": "execute_result"
    }
   ],
   "source": [
    "model_full"
   ]
  },
  {
   "cell_type": "code",
   "execution_count": 136,
   "metadata": {},
   "outputs": [
    {
     "data": {
      "text/plain": [
       "0     7.345823\n",
       "1     7.587884\n",
       "2     7.574280\n",
       "3     7.498859\n",
       "4     7.440236\n",
       "5     7.682297\n",
       "6     7.668693\n",
       "7     7.593272\n",
       "8     7.534649\n",
       "9     7.776710\n",
       "10    7.763106\n",
       "11    7.687685\n",
       "12    7.629062\n",
       "13    7.871123\n",
       "14    7.857519\n",
       "15    7.782098\n",
       "16    7.723475\n",
       "17    7.965536\n",
       "18    7.951932\n",
       "19    7.876511\n",
       "20    7.817889\n",
       "21    8.059949\n",
       "22    8.046345\n",
       "23    7.970924\n",
       "24    7.912302\n",
       "25    8.154362\n",
       "26    8.140758\n",
       "27    8.065338\n",
       "28    8.006715\n",
       "29    8.248776\n",
       "30    8.235171\n",
       "31    8.159751\n",
       "32    8.101128\n",
       "33    8.343189\n",
       "34    8.329584\n",
       "35    8.254164\n",
       "36    8.195541\n",
       "37    8.437602\n",
       "38    8.423998\n",
       "39    8.348577\n",
       "40    8.289954\n",
       "41    8.532015\n",
       "dtype: float64"
      ]
     },
     "execution_count": 136,
     "metadata": {},
     "output_type": "execute_result"
    }
   ],
   "source": [
    "pred_new  = pd.Series(mullin.predict(coco))\n",
    "pred_new"
   ]
  },
  {
   "cell_type": "code",
   "execution_count": 137,
   "metadata": {},
   "outputs": [],
   "source": [
    "coco[\"forecasted_Sales\"] = pd.Series(pred_new)"
   ]
  },
  {
   "cell_type": "code",
   "execution_count": 138,
   "metadata": {},
   "outputs": [
    {
     "data": {
      "text/html": [
       "<div>\n",
       "<style scoped>\n",
       "    .dataframe tbody tr th:only-of-type {\n",
       "        vertical-align: middle;\n",
       "    }\n",
       "\n",
       "    .dataframe tbody tr th {\n",
       "        vertical-align: top;\n",
       "    }\n",
       "\n",
       "    .dataframe thead th {\n",
       "        text-align: right;\n",
       "    }\n",
       "</style>\n",
       "<table border=\"1\" class=\"dataframe\">\n",
       "  <thead>\n",
       "    <tr style=\"text-align: right;\">\n",
       "      <th></th>\n",
       "      <th>Quarter</th>\n",
       "      <th>Sales</th>\n",
       "      <th>quarter</th>\n",
       "      <th>Q1</th>\n",
       "      <th>Q2</th>\n",
       "      <th>Q3</th>\n",
       "      <th>Q4</th>\n",
       "      <th>t</th>\n",
       "      <th>t_square</th>\n",
       "      <th>log_Sales</th>\n",
       "      <th>forecasted_Sales</th>\n",
       "    </tr>\n",
       "  </thead>\n",
       "  <tbody>\n",
       "    <tr>\n",
       "      <th>0</th>\n",
       "      <td>Q1_86</td>\n",
       "      <td>1734.827000</td>\n",
       "      <td>Q1</td>\n",
       "      <td>1</td>\n",
       "      <td>0</td>\n",
       "      <td>0</td>\n",
       "      <td>0</td>\n",
       "      <td>1</td>\n",
       "      <td>1</td>\n",
       "      <td>7.458663</td>\n",
       "      <td>7.345823</td>\n",
       "    </tr>\n",
       "    <tr>\n",
       "      <th>1</th>\n",
       "      <td>Q2_86</td>\n",
       "      <td>2244.960999</td>\n",
       "      <td>Q2</td>\n",
       "      <td>0</td>\n",
       "      <td>1</td>\n",
       "      <td>0</td>\n",
       "      <td>0</td>\n",
       "      <td>2</td>\n",
       "      <td>4</td>\n",
       "      <td>7.716443</td>\n",
       "      <td>7.587884</td>\n",
       "    </tr>\n",
       "    <tr>\n",
       "      <th>2</th>\n",
       "      <td>Q3_86</td>\n",
       "      <td>2533.804993</td>\n",
       "      <td>Q3</td>\n",
       "      <td>0</td>\n",
       "      <td>0</td>\n",
       "      <td>1</td>\n",
       "      <td>0</td>\n",
       "      <td>3</td>\n",
       "      <td>9</td>\n",
       "      <td>7.837477</td>\n",
       "      <td>7.574280</td>\n",
       "    </tr>\n",
       "    <tr>\n",
       "      <th>3</th>\n",
       "      <td>Q4_86</td>\n",
       "      <td>2154.962997</td>\n",
       "      <td>Q4</td>\n",
       "      <td>0</td>\n",
       "      <td>0</td>\n",
       "      <td>0</td>\n",
       "      <td>1</td>\n",
       "      <td>4</td>\n",
       "      <td>16</td>\n",
       "      <td>7.675529</td>\n",
       "      <td>7.498859</td>\n",
       "    </tr>\n",
       "    <tr>\n",
       "      <th>4</th>\n",
       "      <td>Q1_87</td>\n",
       "      <td>1547.818996</td>\n",
       "      <td>Q1</td>\n",
       "      <td>1</td>\n",
       "      <td>0</td>\n",
       "      <td>0</td>\n",
       "      <td>0</td>\n",
       "      <td>5</td>\n",
       "      <td>25</td>\n",
       "      <td>7.344602</td>\n",
       "      <td>7.440236</td>\n",
       "    </tr>\n",
       "    <tr>\n",
       "      <th>5</th>\n",
       "      <td>Q2_87</td>\n",
       "      <td>2104.411995</td>\n",
       "      <td>Q2</td>\n",
       "      <td>0</td>\n",
       "      <td>1</td>\n",
       "      <td>0</td>\n",
       "      <td>0</td>\n",
       "      <td>6</td>\n",
       "      <td>36</td>\n",
       "      <td>7.651791</td>\n",
       "      <td>7.682297</td>\n",
       "    </tr>\n",
       "    <tr>\n",
       "      <th>6</th>\n",
       "      <td>Q3_87</td>\n",
       "      <td>2014.362999</td>\n",
       "      <td>Q3</td>\n",
       "      <td>0</td>\n",
       "      <td>0</td>\n",
       "      <td>1</td>\n",
       "      <td>0</td>\n",
       "      <td>7</td>\n",
       "      <td>49</td>\n",
       "      <td>7.608058</td>\n",
       "      <td>7.668693</td>\n",
       "    </tr>\n",
       "    <tr>\n",
       "      <th>7</th>\n",
       "      <td>Q4_87</td>\n",
       "      <td>1991.746998</td>\n",
       "      <td>Q4</td>\n",
       "      <td>0</td>\n",
       "      <td>0</td>\n",
       "      <td>0</td>\n",
       "      <td>1</td>\n",
       "      <td>8</td>\n",
       "      <td>64</td>\n",
       "      <td>7.596767</td>\n",
       "      <td>7.593272</td>\n",
       "    </tr>\n",
       "    <tr>\n",
       "      <th>8</th>\n",
       "      <td>Q1_88</td>\n",
       "      <td>1869.049999</td>\n",
       "      <td>Q1</td>\n",
       "      <td>1</td>\n",
       "      <td>0</td>\n",
       "      <td>0</td>\n",
       "      <td>0</td>\n",
       "      <td>9</td>\n",
       "      <td>81</td>\n",
       "      <td>7.533186</td>\n",
       "      <td>7.534649</td>\n",
       "    </tr>\n",
       "    <tr>\n",
       "      <th>9</th>\n",
       "      <td>Q2_88</td>\n",
       "      <td>2313.631996</td>\n",
       "      <td>Q2</td>\n",
       "      <td>0</td>\n",
       "      <td>1</td>\n",
       "      <td>0</td>\n",
       "      <td>0</td>\n",
       "      <td>10</td>\n",
       "      <td>100</td>\n",
       "      <td>7.746574</td>\n",
       "      <td>7.776710</td>\n",
       "    </tr>\n",
       "    <tr>\n",
       "      <th>10</th>\n",
       "      <td>Q3_88</td>\n",
       "      <td>2128.320000</td>\n",
       "      <td>Q3</td>\n",
       "      <td>0</td>\n",
       "      <td>0</td>\n",
       "      <td>1</td>\n",
       "      <td>0</td>\n",
       "      <td>11</td>\n",
       "      <td>121</td>\n",
       "      <td>7.663088</td>\n",
       "      <td>7.763106</td>\n",
       "    </tr>\n",
       "    <tr>\n",
       "      <th>11</th>\n",
       "      <td>Q4_88</td>\n",
       "      <td>2026.828999</td>\n",
       "      <td>Q4</td>\n",
       "      <td>0</td>\n",
       "      <td>0</td>\n",
       "      <td>0</td>\n",
       "      <td>1</td>\n",
       "      <td>12</td>\n",
       "      <td>144</td>\n",
       "      <td>7.614228</td>\n",
       "      <td>7.687685</td>\n",
       "    </tr>\n",
       "    <tr>\n",
       "      <th>12</th>\n",
       "      <td>Q1_89</td>\n",
       "      <td>1910.603996</td>\n",
       "      <td>Q1</td>\n",
       "      <td>1</td>\n",
       "      <td>0</td>\n",
       "      <td>0</td>\n",
       "      <td>0</td>\n",
       "      <td>13</td>\n",
       "      <td>169</td>\n",
       "      <td>7.555175</td>\n",
       "      <td>7.629062</td>\n",
       "    </tr>\n",
       "    <tr>\n",
       "      <th>13</th>\n",
       "      <td>Q2_89</td>\n",
       "      <td>2331.164993</td>\n",
       "      <td>Q2</td>\n",
       "      <td>0</td>\n",
       "      <td>1</td>\n",
       "      <td>0</td>\n",
       "      <td>0</td>\n",
       "      <td>14</td>\n",
       "      <td>196</td>\n",
       "      <td>7.754123</td>\n",
       "      <td>7.871123</td>\n",
       "    </tr>\n",
       "    <tr>\n",
       "      <th>14</th>\n",
       "      <td>Q3_89</td>\n",
       "      <td>2206.549995</td>\n",
       "      <td>Q3</td>\n",
       "      <td>0</td>\n",
       "      <td>0</td>\n",
       "      <td>1</td>\n",
       "      <td>0</td>\n",
       "      <td>15</td>\n",
       "      <td>225</td>\n",
       "      <td>7.699185</td>\n",
       "      <td>7.857519</td>\n",
       "    </tr>\n",
       "    <tr>\n",
       "      <th>15</th>\n",
       "      <td>Q4_89</td>\n",
       "      <td>2173.967995</td>\n",
       "      <td>Q4</td>\n",
       "      <td>0</td>\n",
       "      <td>0</td>\n",
       "      <td>0</td>\n",
       "      <td>1</td>\n",
       "      <td>16</td>\n",
       "      <td>256</td>\n",
       "      <td>7.684309</td>\n",
       "      <td>7.782098</td>\n",
       "    </tr>\n",
       "    <tr>\n",
       "      <th>16</th>\n",
       "      <td>Q1_90</td>\n",
       "      <td>2148.278000</td>\n",
       "      <td>Q1</td>\n",
       "      <td>1</td>\n",
       "      <td>0</td>\n",
       "      <td>0</td>\n",
       "      <td>0</td>\n",
       "      <td>17</td>\n",
       "      <td>289</td>\n",
       "      <td>7.672422</td>\n",
       "      <td>7.723475</td>\n",
       "    </tr>\n",
       "    <tr>\n",
       "      <th>17</th>\n",
       "      <td>Q2_90</td>\n",
       "      <td>2739.307999</td>\n",
       "      <td>Q2</td>\n",
       "      <td>0</td>\n",
       "      <td>1</td>\n",
       "      <td>0</td>\n",
       "      <td>0</td>\n",
       "      <td>18</td>\n",
       "      <td>324</td>\n",
       "      <td>7.915461</td>\n",
       "      <td>7.965536</td>\n",
       "    </tr>\n",
       "    <tr>\n",
       "      <th>18</th>\n",
       "      <td>Q3_90</td>\n",
       "      <td>2792.753998</td>\n",
       "      <td>Q3</td>\n",
       "      <td>0</td>\n",
       "      <td>0</td>\n",
       "      <td>1</td>\n",
       "      <td>0</td>\n",
       "      <td>19</td>\n",
       "      <td>361</td>\n",
       "      <td>7.934783</td>\n",
       "      <td>7.951932</td>\n",
       "    </tr>\n",
       "    <tr>\n",
       "      <th>19</th>\n",
       "      <td>Q4_90</td>\n",
       "      <td>2556.009995</td>\n",
       "      <td>Q4</td>\n",
       "      <td>0</td>\n",
       "      <td>0</td>\n",
       "      <td>0</td>\n",
       "      <td>1</td>\n",
       "      <td>20</td>\n",
       "      <td>400</td>\n",
       "      <td>7.846203</td>\n",
       "      <td>7.876511</td>\n",
       "    </tr>\n",
       "    <tr>\n",
       "      <th>20</th>\n",
       "      <td>Q1_91</td>\n",
       "      <td>2480.973999</td>\n",
       "      <td>Q1</td>\n",
       "      <td>1</td>\n",
       "      <td>0</td>\n",
       "      <td>0</td>\n",
       "      <td>0</td>\n",
       "      <td>21</td>\n",
       "      <td>441</td>\n",
       "      <td>7.816407</td>\n",
       "      <td>7.817889</td>\n",
       "    </tr>\n",
       "    <tr>\n",
       "      <th>21</th>\n",
       "      <td>Q2_91</td>\n",
       "      <td>3039.522995</td>\n",
       "      <td>Q2</td>\n",
       "      <td>0</td>\n",
       "      <td>1</td>\n",
       "      <td>0</td>\n",
       "      <td>0</td>\n",
       "      <td>22</td>\n",
       "      <td>484</td>\n",
       "      <td>8.019456</td>\n",
       "      <td>8.059949</td>\n",
       "    </tr>\n",
       "    <tr>\n",
       "      <th>22</th>\n",
       "      <td>Q3_91</td>\n",
       "      <td>3172.115997</td>\n",
       "      <td>Q3</td>\n",
       "      <td>0</td>\n",
       "      <td>0</td>\n",
       "      <td>1</td>\n",
       "      <td>0</td>\n",
       "      <td>23</td>\n",
       "      <td>529</td>\n",
       "      <td>8.062154</td>\n",
       "      <td>8.046345</td>\n",
       "    </tr>\n",
       "    <tr>\n",
       "      <th>23</th>\n",
       "      <td>Q4_91</td>\n",
       "      <td>2879.000999</td>\n",
       "      <td>Q4</td>\n",
       "      <td>0</td>\n",
       "      <td>0</td>\n",
       "      <td>0</td>\n",
       "      <td>1</td>\n",
       "      <td>24</td>\n",
       "      <td>576</td>\n",
       "      <td>7.965199</td>\n",
       "      <td>7.970924</td>\n",
       "    </tr>\n",
       "    <tr>\n",
       "      <th>24</th>\n",
       "      <td>Q1_92</td>\n",
       "      <td>2772.000000</td>\n",
       "      <td>Q1</td>\n",
       "      <td>1</td>\n",
       "      <td>0</td>\n",
       "      <td>0</td>\n",
       "      <td>0</td>\n",
       "      <td>25</td>\n",
       "      <td>625</td>\n",
       "      <td>7.927324</td>\n",
       "      <td>7.912302</td>\n",
       "    </tr>\n",
       "    <tr>\n",
       "      <th>25</th>\n",
       "      <td>Q2_92</td>\n",
       "      <td>3550.000000</td>\n",
       "      <td>Q2</td>\n",
       "      <td>0</td>\n",
       "      <td>1</td>\n",
       "      <td>0</td>\n",
       "      <td>0</td>\n",
       "      <td>26</td>\n",
       "      <td>676</td>\n",
       "      <td>8.174703</td>\n",
       "      <td>8.154362</td>\n",
       "    </tr>\n",
       "    <tr>\n",
       "      <th>26</th>\n",
       "      <td>Q3_92</td>\n",
       "      <td>3508.000000</td>\n",
       "      <td>Q3</td>\n",
       "      <td>0</td>\n",
       "      <td>0</td>\n",
       "      <td>1</td>\n",
       "      <td>0</td>\n",
       "      <td>27</td>\n",
       "      <td>729</td>\n",
       "      <td>8.162801</td>\n",
       "      <td>8.140758</td>\n",
       "    </tr>\n",
       "    <tr>\n",
       "      <th>27</th>\n",
       "      <td>Q4_92</td>\n",
       "      <td>3243.859993</td>\n",
       "      <td>Q4</td>\n",
       "      <td>0</td>\n",
       "      <td>0</td>\n",
       "      <td>0</td>\n",
       "      <td>1</td>\n",
       "      <td>28</td>\n",
       "      <td>784</td>\n",
       "      <td>8.084519</td>\n",
       "      <td>8.065338</td>\n",
       "    </tr>\n",
       "    <tr>\n",
       "      <th>28</th>\n",
       "      <td>Q1_93</td>\n",
       "      <td>3056.000000</td>\n",
       "      <td>Q1</td>\n",
       "      <td>1</td>\n",
       "      <td>0</td>\n",
       "      <td>0</td>\n",
       "      <td>0</td>\n",
       "      <td>29</td>\n",
       "      <td>841</td>\n",
       "      <td>8.024862</td>\n",
       "      <td>8.006715</td>\n",
       "    </tr>\n",
       "    <tr>\n",
       "      <th>29</th>\n",
       "      <td>Q2_93</td>\n",
       "      <td>3899.000000</td>\n",
       "      <td>Q2</td>\n",
       "      <td>0</td>\n",
       "      <td>1</td>\n",
       "      <td>0</td>\n",
       "      <td>0</td>\n",
       "      <td>30</td>\n",
       "      <td>900</td>\n",
       "      <td>8.268475</td>\n",
       "      <td>8.248776</td>\n",
       "    </tr>\n",
       "    <tr>\n",
       "      <th>30</th>\n",
       "      <td>Q3_93</td>\n",
       "      <td>3629.000000</td>\n",
       "      <td>Q3</td>\n",
       "      <td>0</td>\n",
       "      <td>0</td>\n",
       "      <td>1</td>\n",
       "      <td>0</td>\n",
       "      <td>31</td>\n",
       "      <td>961</td>\n",
       "      <td>8.196712</td>\n",
       "      <td>8.235171</td>\n",
       "    </tr>\n",
       "    <tr>\n",
       "      <th>31</th>\n",
       "      <td>Q4_93</td>\n",
       "      <td>3373.000000</td>\n",
       "      <td>Q4</td>\n",
       "      <td>0</td>\n",
       "      <td>0</td>\n",
       "      <td>0</td>\n",
       "      <td>1</td>\n",
       "      <td>32</td>\n",
       "      <td>1024</td>\n",
       "      <td>8.123558</td>\n",
       "      <td>8.159751</td>\n",
       "    </tr>\n",
       "    <tr>\n",
       "      <th>32</th>\n",
       "      <td>Q1_94</td>\n",
       "      <td>3352.000000</td>\n",
       "      <td>Q1</td>\n",
       "      <td>1</td>\n",
       "      <td>0</td>\n",
       "      <td>0</td>\n",
       "      <td>0</td>\n",
       "      <td>33</td>\n",
       "      <td>1089</td>\n",
       "      <td>8.117312</td>\n",
       "      <td>8.101128</td>\n",
       "    </tr>\n",
       "    <tr>\n",
       "      <th>33</th>\n",
       "      <td>Q2_94</td>\n",
       "      <td>4342.000000</td>\n",
       "      <td>Q2</td>\n",
       "      <td>0</td>\n",
       "      <td>1</td>\n",
       "      <td>0</td>\n",
       "      <td>0</td>\n",
       "      <td>34</td>\n",
       "      <td>1156</td>\n",
       "      <td>8.376090</td>\n",
       "      <td>8.343189</td>\n",
       "    </tr>\n",
       "    <tr>\n",
       "      <th>34</th>\n",
       "      <td>Q3_94</td>\n",
       "      <td>4461.000000</td>\n",
       "      <td>Q3</td>\n",
       "      <td>0</td>\n",
       "      <td>0</td>\n",
       "      <td>1</td>\n",
       "      <td>0</td>\n",
       "      <td>35</td>\n",
       "      <td>1225</td>\n",
       "      <td>8.403128</td>\n",
       "      <td>8.329584</td>\n",
       "    </tr>\n",
       "    <tr>\n",
       "      <th>35</th>\n",
       "      <td>Q4_94</td>\n",
       "      <td>4017.000000</td>\n",
       "      <td>Q4</td>\n",
       "      <td>0</td>\n",
       "      <td>0</td>\n",
       "      <td>0</td>\n",
       "      <td>1</td>\n",
       "      <td>36</td>\n",
       "      <td>1296</td>\n",
       "      <td>8.298291</td>\n",
       "      <td>8.254164</td>\n",
       "    </tr>\n",
       "    <tr>\n",
       "      <th>36</th>\n",
       "      <td>Q1_95</td>\n",
       "      <td>3854.000000</td>\n",
       "      <td>Q1</td>\n",
       "      <td>1</td>\n",
       "      <td>0</td>\n",
       "      <td>0</td>\n",
       "      <td>0</td>\n",
       "      <td>37</td>\n",
       "      <td>1369</td>\n",
       "      <td>8.256867</td>\n",
       "      <td>8.195541</td>\n",
       "    </tr>\n",
       "    <tr>\n",
       "      <th>37</th>\n",
       "      <td>Q2_95</td>\n",
       "      <td>4936.000000</td>\n",
       "      <td>Q2</td>\n",
       "      <td>0</td>\n",
       "      <td>1</td>\n",
       "      <td>0</td>\n",
       "      <td>0</td>\n",
       "      <td>38</td>\n",
       "      <td>1444</td>\n",
       "      <td>8.504311</td>\n",
       "      <td>8.437602</td>\n",
       "    </tr>\n",
       "    <tr>\n",
       "      <th>38</th>\n",
       "      <td>Q3_95</td>\n",
       "      <td>4895.000000</td>\n",
       "      <td>Q3</td>\n",
       "      <td>0</td>\n",
       "      <td>0</td>\n",
       "      <td>1</td>\n",
       "      <td>0</td>\n",
       "      <td>39</td>\n",
       "      <td>1521</td>\n",
       "      <td>8.495970</td>\n",
       "      <td>8.423998</td>\n",
       "    </tr>\n",
       "    <tr>\n",
       "      <th>39</th>\n",
       "      <td>Q4_95</td>\n",
       "      <td>4333.000000</td>\n",
       "      <td>Q4</td>\n",
       "      <td>0</td>\n",
       "      <td>0</td>\n",
       "      <td>0</td>\n",
       "      <td>1</td>\n",
       "      <td>40</td>\n",
       "      <td>1600</td>\n",
       "      <td>8.374015</td>\n",
       "      <td>8.348577</td>\n",
       "    </tr>\n",
       "    <tr>\n",
       "      <th>40</th>\n",
       "      <td>Q1_96</td>\n",
       "      <td>4194.000000</td>\n",
       "      <td>Q1</td>\n",
       "      <td>1</td>\n",
       "      <td>0</td>\n",
       "      <td>0</td>\n",
       "      <td>0</td>\n",
       "      <td>41</td>\n",
       "      <td>1681</td>\n",
       "      <td>8.341410</td>\n",
       "      <td>8.289954</td>\n",
       "    </tr>\n",
       "    <tr>\n",
       "      <th>41</th>\n",
       "      <td>Q2_96</td>\n",
       "      <td>5253.000000</td>\n",
       "      <td>Q2</td>\n",
       "      <td>0</td>\n",
       "      <td>1</td>\n",
       "      <td>0</td>\n",
       "      <td>0</td>\n",
       "      <td>42</td>\n",
       "      <td>1764</td>\n",
       "      <td>8.566555</td>\n",
       "      <td>8.532015</td>\n",
       "    </tr>\n",
       "  </tbody>\n",
       "</table>\n",
       "</div>"
      ],
      "text/plain": [
       "   Quarter        Sales quarter  Q1  Q2  Q3  Q4   t  t_square  log_Sales  \\\n",
       "0    Q1_86  1734.827000      Q1   1   0   0   0   1         1   7.458663   \n",
       "1    Q2_86  2244.960999      Q2   0   1   0   0   2         4   7.716443   \n",
       "2    Q3_86  2533.804993      Q3   0   0   1   0   3         9   7.837477   \n",
       "3    Q4_86  2154.962997      Q4   0   0   0   1   4        16   7.675529   \n",
       "4    Q1_87  1547.818996      Q1   1   0   0   0   5        25   7.344602   \n",
       "5    Q2_87  2104.411995      Q2   0   1   0   0   6        36   7.651791   \n",
       "6    Q3_87  2014.362999      Q3   0   0   1   0   7        49   7.608058   \n",
       "7    Q4_87  1991.746998      Q4   0   0   0   1   8        64   7.596767   \n",
       "8    Q1_88  1869.049999      Q1   1   0   0   0   9        81   7.533186   \n",
       "9    Q2_88  2313.631996      Q2   0   1   0   0  10       100   7.746574   \n",
       "10   Q3_88  2128.320000      Q3   0   0   1   0  11       121   7.663088   \n",
       "11   Q4_88  2026.828999      Q4   0   0   0   1  12       144   7.614228   \n",
       "12   Q1_89  1910.603996      Q1   1   0   0   0  13       169   7.555175   \n",
       "13   Q2_89  2331.164993      Q2   0   1   0   0  14       196   7.754123   \n",
       "14   Q3_89  2206.549995      Q3   0   0   1   0  15       225   7.699185   \n",
       "15   Q4_89  2173.967995      Q4   0   0   0   1  16       256   7.684309   \n",
       "16   Q1_90  2148.278000      Q1   1   0   0   0  17       289   7.672422   \n",
       "17   Q2_90  2739.307999      Q2   0   1   0   0  18       324   7.915461   \n",
       "18   Q3_90  2792.753998      Q3   0   0   1   0  19       361   7.934783   \n",
       "19   Q4_90  2556.009995      Q4   0   0   0   1  20       400   7.846203   \n",
       "20   Q1_91  2480.973999      Q1   1   0   0   0  21       441   7.816407   \n",
       "21   Q2_91  3039.522995      Q2   0   1   0   0  22       484   8.019456   \n",
       "22   Q3_91  3172.115997      Q3   0   0   1   0  23       529   8.062154   \n",
       "23   Q4_91  2879.000999      Q4   0   0   0   1  24       576   7.965199   \n",
       "24   Q1_92  2772.000000      Q1   1   0   0   0  25       625   7.927324   \n",
       "25   Q2_92  3550.000000      Q2   0   1   0   0  26       676   8.174703   \n",
       "26   Q3_92  3508.000000      Q3   0   0   1   0  27       729   8.162801   \n",
       "27   Q4_92  3243.859993      Q4   0   0   0   1  28       784   8.084519   \n",
       "28   Q1_93  3056.000000      Q1   1   0   0   0  29       841   8.024862   \n",
       "29   Q2_93  3899.000000      Q2   0   1   0   0  30       900   8.268475   \n",
       "30   Q3_93  3629.000000      Q3   0   0   1   0  31       961   8.196712   \n",
       "31   Q4_93  3373.000000      Q4   0   0   0   1  32      1024   8.123558   \n",
       "32   Q1_94  3352.000000      Q1   1   0   0   0  33      1089   8.117312   \n",
       "33   Q2_94  4342.000000      Q2   0   1   0   0  34      1156   8.376090   \n",
       "34   Q3_94  4461.000000      Q3   0   0   1   0  35      1225   8.403128   \n",
       "35   Q4_94  4017.000000      Q4   0   0   0   1  36      1296   8.298291   \n",
       "36   Q1_95  3854.000000      Q1   1   0   0   0  37      1369   8.256867   \n",
       "37   Q2_95  4936.000000      Q2   0   1   0   0  38      1444   8.504311   \n",
       "38   Q3_95  4895.000000      Q3   0   0   1   0  39      1521   8.495970   \n",
       "39   Q4_95  4333.000000      Q4   0   0   0   1  40      1600   8.374015   \n",
       "40   Q1_96  4194.000000      Q1   1   0   0   0  41      1681   8.341410   \n",
       "41   Q2_96  5253.000000      Q2   0   1   0   0  42      1764   8.566555   \n",
       "\n",
       "    forecasted_Sales  \n",
       "0           7.345823  \n",
       "1           7.587884  \n",
       "2           7.574280  \n",
       "3           7.498859  \n",
       "4           7.440236  \n",
       "5           7.682297  \n",
       "6           7.668693  \n",
       "7           7.593272  \n",
       "8           7.534649  \n",
       "9           7.776710  \n",
       "10          7.763106  \n",
       "11          7.687685  \n",
       "12          7.629062  \n",
       "13          7.871123  \n",
       "14          7.857519  \n",
       "15          7.782098  \n",
       "16          7.723475  \n",
       "17          7.965536  \n",
       "18          7.951932  \n",
       "19          7.876511  \n",
       "20          7.817889  \n",
       "21          8.059949  \n",
       "22          8.046345  \n",
       "23          7.970924  \n",
       "24          7.912302  \n",
       "25          8.154362  \n",
       "26          8.140758  \n",
       "27          8.065338  \n",
       "28          8.006715  \n",
       "29          8.248776  \n",
       "30          8.235171  \n",
       "31          8.159751  \n",
       "32          8.101128  \n",
       "33          8.343189  \n",
       "34          8.329584  \n",
       "35          8.254164  \n",
       "36          8.195541  \n",
       "37          8.437602  \n",
       "38          8.423998  \n",
       "39          8.348577  \n",
       "40          8.289954  \n",
       "41          8.532015  "
      ]
     },
     "execution_count": 138,
     "metadata": {},
     "output_type": "execute_result"
    }
   ],
   "source": [
    "coco"
   ]
  },
  {
   "cell_type": "code",
   "execution_count": 139,
   "metadata": {},
   "outputs": [],
   "source": [
    "#data driven model for cocacola\n",
    "import pandas as pd\n",
    "import numpy as np\n",
    "import matplotlib.pyplot as plt\n",
    "import seaborn as sns\n",
    "from statsmodels.tsa.seasonal import seasonal_decompose\n",
    "from statsmodels.tsa.holtwinters import SimpleExpSmoothing # SES\n",
    "from statsmodels.tsa.holtwinters import Holt # Holts Exponential Smoothing\n",
    "from statsmodels.tsa.holtwinters import ExponentialSmoothing "
   ]
  },
  {
   "cell_type": "code",
   "execution_count": 140,
   "metadata": {},
   "outputs": [],
   "source": [
    "coca = pd.read_csv(\"C:/Users/RajabhishekAditya/Downloads/forecasting/CocaCola.csv\")\n",
    "#coca.CocaCola.plot()\n",
    "#coca"
   ]
  },
  {
   "cell_type": "code",
   "execution_count": 141,
   "metadata": {},
   "outputs": [
    {
     "data": {
      "text/html": [
       "<div>\n",
       "<style scoped>\n",
       "    .dataframe tbody tr th:only-of-type {\n",
       "        vertical-align: middle;\n",
       "    }\n",
       "\n",
       "    .dataframe tbody tr th {\n",
       "        vertical-align: top;\n",
       "    }\n",
       "\n",
       "    .dataframe thead th {\n",
       "        text-align: right;\n",
       "    }\n",
       "</style>\n",
       "<table border=\"1\" class=\"dataframe\">\n",
       "  <thead>\n",
       "    <tr style=\"text-align: right;\">\n",
       "      <th></th>\n",
       "      <th>Quarter</th>\n",
       "      <th>Sales</th>\n",
       "    </tr>\n",
       "  </thead>\n",
       "  <tbody>\n",
       "    <tr>\n",
       "      <th>0</th>\n",
       "      <td>Q1_86</td>\n",
       "      <td>1734.827000</td>\n",
       "    </tr>\n",
       "    <tr>\n",
       "      <th>1</th>\n",
       "      <td>Q2_86</td>\n",
       "      <td>2244.960999</td>\n",
       "    </tr>\n",
       "    <tr>\n",
       "      <th>2</th>\n",
       "      <td>Q3_86</td>\n",
       "      <td>2533.804993</td>\n",
       "    </tr>\n",
       "    <tr>\n",
       "      <th>3</th>\n",
       "      <td>Q4_86</td>\n",
       "      <td>2154.962997</td>\n",
       "    </tr>\n",
       "    <tr>\n",
       "      <th>4</th>\n",
       "      <td>Q1_87</td>\n",
       "      <td>1547.818996</td>\n",
       "    </tr>\n",
       "    <tr>\n",
       "      <th>5</th>\n",
       "      <td>Q2_87</td>\n",
       "      <td>2104.411995</td>\n",
       "    </tr>\n",
       "    <tr>\n",
       "      <th>6</th>\n",
       "      <td>Q3_87</td>\n",
       "      <td>2014.362999</td>\n",
       "    </tr>\n",
       "    <tr>\n",
       "      <th>7</th>\n",
       "      <td>Q4_87</td>\n",
       "      <td>1991.746998</td>\n",
       "    </tr>\n",
       "    <tr>\n",
       "      <th>8</th>\n",
       "      <td>Q1_88</td>\n",
       "      <td>1869.049999</td>\n",
       "    </tr>\n",
       "    <tr>\n",
       "      <th>9</th>\n",
       "      <td>Q2_88</td>\n",
       "      <td>2313.631996</td>\n",
       "    </tr>\n",
       "    <tr>\n",
       "      <th>10</th>\n",
       "      <td>Q3_88</td>\n",
       "      <td>2128.320000</td>\n",
       "    </tr>\n",
       "    <tr>\n",
       "      <th>11</th>\n",
       "      <td>Q4_88</td>\n",
       "      <td>2026.828999</td>\n",
       "    </tr>\n",
       "    <tr>\n",
       "      <th>12</th>\n",
       "      <td>Q1_89</td>\n",
       "      <td>1910.603996</td>\n",
       "    </tr>\n",
       "    <tr>\n",
       "      <th>13</th>\n",
       "      <td>Q2_89</td>\n",
       "      <td>2331.164993</td>\n",
       "    </tr>\n",
       "    <tr>\n",
       "      <th>14</th>\n",
       "      <td>Q3_89</td>\n",
       "      <td>2206.549995</td>\n",
       "    </tr>\n",
       "    <tr>\n",
       "      <th>15</th>\n",
       "      <td>Q4_89</td>\n",
       "      <td>2173.967995</td>\n",
       "    </tr>\n",
       "    <tr>\n",
       "      <th>16</th>\n",
       "      <td>Q1_90</td>\n",
       "      <td>2148.278000</td>\n",
       "    </tr>\n",
       "    <tr>\n",
       "      <th>17</th>\n",
       "      <td>Q2_90</td>\n",
       "      <td>2739.307999</td>\n",
       "    </tr>\n",
       "    <tr>\n",
       "      <th>18</th>\n",
       "      <td>Q3_90</td>\n",
       "      <td>2792.753998</td>\n",
       "    </tr>\n",
       "    <tr>\n",
       "      <th>19</th>\n",
       "      <td>Q4_90</td>\n",
       "      <td>2556.009995</td>\n",
       "    </tr>\n",
       "    <tr>\n",
       "      <th>20</th>\n",
       "      <td>Q1_91</td>\n",
       "      <td>2480.973999</td>\n",
       "    </tr>\n",
       "    <tr>\n",
       "      <th>21</th>\n",
       "      <td>Q2_91</td>\n",
       "      <td>3039.522995</td>\n",
       "    </tr>\n",
       "    <tr>\n",
       "      <th>22</th>\n",
       "      <td>Q3_91</td>\n",
       "      <td>3172.115997</td>\n",
       "    </tr>\n",
       "    <tr>\n",
       "      <th>23</th>\n",
       "      <td>Q4_91</td>\n",
       "      <td>2879.000999</td>\n",
       "    </tr>\n",
       "    <tr>\n",
       "      <th>24</th>\n",
       "      <td>Q1_92</td>\n",
       "      <td>2772.000000</td>\n",
       "    </tr>\n",
       "    <tr>\n",
       "      <th>25</th>\n",
       "      <td>Q2_92</td>\n",
       "      <td>3550.000000</td>\n",
       "    </tr>\n",
       "    <tr>\n",
       "      <th>26</th>\n",
       "      <td>Q3_92</td>\n",
       "      <td>3508.000000</td>\n",
       "    </tr>\n",
       "    <tr>\n",
       "      <th>27</th>\n",
       "      <td>Q4_92</td>\n",
       "      <td>3243.859993</td>\n",
       "    </tr>\n",
       "    <tr>\n",
       "      <th>28</th>\n",
       "      <td>Q1_93</td>\n",
       "      <td>3056.000000</td>\n",
       "    </tr>\n",
       "    <tr>\n",
       "      <th>29</th>\n",
       "      <td>Q2_93</td>\n",
       "      <td>3899.000000</td>\n",
       "    </tr>\n",
       "    <tr>\n",
       "      <th>30</th>\n",
       "      <td>Q3_93</td>\n",
       "      <td>3629.000000</td>\n",
       "    </tr>\n",
       "    <tr>\n",
       "      <th>31</th>\n",
       "      <td>Q4_93</td>\n",
       "      <td>3373.000000</td>\n",
       "    </tr>\n",
       "    <tr>\n",
       "      <th>32</th>\n",
       "      <td>Q1_94</td>\n",
       "      <td>3352.000000</td>\n",
       "    </tr>\n",
       "    <tr>\n",
       "      <th>33</th>\n",
       "      <td>Q2_94</td>\n",
       "      <td>4342.000000</td>\n",
       "    </tr>\n",
       "    <tr>\n",
       "      <th>34</th>\n",
       "      <td>Q3_94</td>\n",
       "      <td>4461.000000</td>\n",
       "    </tr>\n",
       "    <tr>\n",
       "      <th>35</th>\n",
       "      <td>Q4_94</td>\n",
       "      <td>4017.000000</td>\n",
       "    </tr>\n",
       "    <tr>\n",
       "      <th>36</th>\n",
       "      <td>Q1_95</td>\n",
       "      <td>3854.000000</td>\n",
       "    </tr>\n",
       "    <tr>\n",
       "      <th>37</th>\n",
       "      <td>Q2_95</td>\n",
       "      <td>4936.000000</td>\n",
       "    </tr>\n",
       "    <tr>\n",
       "      <th>38</th>\n",
       "      <td>Q3_95</td>\n",
       "      <td>4895.000000</td>\n",
       "    </tr>\n",
       "    <tr>\n",
       "      <th>39</th>\n",
       "      <td>Q4_95</td>\n",
       "      <td>4333.000000</td>\n",
       "    </tr>\n",
       "    <tr>\n",
       "      <th>40</th>\n",
       "      <td>Q1_96</td>\n",
       "      <td>4194.000000</td>\n",
       "    </tr>\n",
       "    <tr>\n",
       "      <th>41</th>\n",
       "      <td>Q2_96</td>\n",
       "      <td>5253.000000</td>\n",
       "    </tr>\n",
       "  </tbody>\n",
       "</table>\n",
       "</div>"
      ],
      "text/plain": [
       "   Quarter        Sales\n",
       "0    Q1_86  1734.827000\n",
       "1    Q2_86  2244.960999\n",
       "2    Q3_86  2533.804993\n",
       "3    Q4_86  2154.962997\n",
       "4    Q1_87  1547.818996\n",
       "5    Q2_87  2104.411995\n",
       "6    Q3_87  2014.362999\n",
       "7    Q4_87  1991.746998\n",
       "8    Q1_88  1869.049999\n",
       "9    Q2_88  2313.631996\n",
       "10   Q3_88  2128.320000\n",
       "11   Q4_88  2026.828999\n",
       "12   Q1_89  1910.603996\n",
       "13   Q2_89  2331.164993\n",
       "14   Q3_89  2206.549995\n",
       "15   Q4_89  2173.967995\n",
       "16   Q1_90  2148.278000\n",
       "17   Q2_90  2739.307999\n",
       "18   Q3_90  2792.753998\n",
       "19   Q4_90  2556.009995\n",
       "20   Q1_91  2480.973999\n",
       "21   Q2_91  3039.522995\n",
       "22   Q3_91  3172.115997\n",
       "23   Q4_91  2879.000999\n",
       "24   Q1_92  2772.000000\n",
       "25   Q2_92  3550.000000\n",
       "26   Q3_92  3508.000000\n",
       "27   Q4_92  3243.859993\n",
       "28   Q1_93  3056.000000\n",
       "29   Q2_93  3899.000000\n",
       "30   Q3_93  3629.000000\n",
       "31   Q4_93  3373.000000\n",
       "32   Q1_94  3352.000000\n",
       "33   Q2_94  4342.000000\n",
       "34   Q3_94  4461.000000\n",
       "35   Q4_94  4017.000000\n",
       "36   Q1_95  3854.000000\n",
       "37   Q2_95  4936.000000\n",
       "38   Q3_95  4895.000000\n",
       "39   Q4_95  4333.000000\n",
       "40   Q1_96  4194.000000\n",
       "41   Q2_96  5253.000000"
      ]
     },
     "execution_count": 141,
     "metadata": {},
     "output_type": "execute_result"
    }
   ],
   "source": [
    "coca"
   ]
  },
  {
   "cell_type": "code",
   "execution_count": 143,
   "metadata": {},
   "outputs": [
    {
     "data": {
      "text/plain": [
       "<AxesSubplot:>"
      ]
     },
     "execution_count": 143,
     "metadata": {},
     "output_type": "execute_result"
    },
    {
     "data": {
      "image/png": "[encoded data removed]",
      "text/plain": [
       "<Figure size 432x288 with 1 Axes>"
      ]
     },
     "metadata": {
      "needs_background": "light"
     },
     "output_type": "display_data"
    }
   ],
   "source": [
    "coca.Sales.plot()"
   ]
  },
  {
   "cell_type": "code",
   "execution_count": 145,
   "metadata": {},
   "outputs": [],
   "source": [
    "#splitting data\n",
    "Train = coca.head(38)\n",
    "Test = coca.tail(4)"
   ]
  },
  {
   "cell_type": "code",
   "execution_count": 146,
   "metadata": {},
   "outputs": [
    {
     "data": {
      "text/plain": [
       "<matplotlib.legend.Legend at 0x1eafe27d8b0>"
      ]
     },
     "execution_count": 146,
     "metadata": {},
     "output_type": "execute_result"
    },
    {
     "data": {
      "image/png": "[encoded data removed]",
      "text/plain": [
       "<Figure size 864x288 with 1 Axes>"
      ]
     },
     "metadata": {
      "needs_background": "light"
     },
     "output_type": "display_data"
    }
   ],
   "source": [
    "#moving average\n",
    "plt.figure(figsize=(12,4))\n",
    "coca.Sales.plot(label=\"org\")\n",
    "for i in range(2,46,4): # 4 is difference\n",
    "    coca[\"Sales\"].rolling(i).mean().plot(label=str(i))\n",
    "plt.legend(loc='best')"
   ]
  },
  {
   "cell_type": "code",
   "execution_count": 147,
   "metadata": {},
   "outputs": [
    {
     "data": {
      "image/png": "[encoded data removed]",
      "text/plain": [
       "<Figure size 432x288 with 4 Axes>"
      ]
     },
     "metadata": {
      "needs_background": "light"
     },
     "output_type": "display_data"
    }
   ],
   "source": [
    "#Time Series Decomposition Plot\n",
    "decompose_ts_add = seasonal_decompose(coca.Sales,period=12)\n",
    "decompose_ts_add.plot()\n",
    "plt.show()"
   ]
  },
  {
   "cell_type": "code",
   "execution_count": 148,
   "metadata": {},
   "outputs": [
    {
     "data": {
      "image/png": "[encoded data removed]",
      "text/plain": [
       "<Figure size 432x288 with 1 Axes>"
      ]
     },
     "metadata": {
      "needs_background": "light"
     },
     "output_type": "display_data"
    },
    {
     "data": {
      "image/png": "[encoded data removed]",
      "text/plain": [
       "<Figure size 432x288 with 1 Axes>"
      ]
     },
     "metadata": {
      "needs_background": "light"
     },
     "output_type": "display_data"
    }
   ],
   "source": [
    "#ACF AND PACF PLOTS\n",
    "import statsmodels.graphics.tsaplots as tsa_plots\n",
    "tsa_plots.plot_acf(coca.Sales,lags=12)\n",
    "tsa_plots.plot_pacf(coca.Sales,lags=12)\n",
    "plt.show()\n"
   ]
  },
  {
   "cell_type": "code",
   "execution_count": 149,
   "metadata": {},
   "outputs": [],
   "source": [
    "# Evaluate metric MAPE\n",
    "def MAPE(pred,org):\n",
    "    temp = np.abs((pred-org)/org)*100\n",
    "    return np.mean(temp)"
   ]
  },
  {
   "cell_type": "code",
   "execution_count": 150,
   "metadata": {},
   "outputs": [
    {
     "name": "stderr",
     "output_type": "stream",
     "text": [
      "C:\\Users\\RajabhishekAditya\\anaconda3\\lib\\site-packages\\statsmodels\\tsa\\holtwinters\\model.py:427: FutureWarning: After 0.13 initialization must be handled at model creation\n",
      "  warnings.warn(\n"
     ]
    },
    {
     "data": {
      "text/plain": [
       "13.169736669204188"
      ]
     },
     "execution_count": 150,
     "metadata": {},
     "output_type": "execute_result"
    }
   ],
   "source": [
    "# simple exponenrial method\n",
    "ses_model = SimpleExpSmoothing(Train[\"Sales\"]).fit(smoothing_level=0.2)\n",
    "pred_ses = ses_model.predict(start = Test.index[0],end = Test.index[-1])\n",
    "MAPE(pred_ses,Test.Sales) \n"
   ]
  },
  {
   "cell_type": "code",
   "execution_count": 151,
   "metadata": {},
   "outputs": [
    {
     "name": "stderr",
     "output_type": "stream",
     "text": [
      "<ipython-input-151-98735049364b>:2: FutureWarning: the 'smoothing_slope'' keyword is deprecated, use 'smoothing_trend' instead\n",
      "  hw_model = Holt(Train[\"Sales\"]).fit(smoothing_level=0.8, smoothing_slope=0.2)\n"
     ]
    },
    {
     "data": {
      "text/plain": [
       "12.361934175245395"
      ]
     },
     "execution_count": 151,
     "metadata": {},
     "output_type": "execute_result"
    }
   ],
   "source": [
    "#Holt Method\n",
    "hw_model = Holt(Train[\"Sales\"]).fit(smoothing_level=0.8, smoothing_slope=0.2)\n",
    "pred_hw = hw_model.predict(start = Test.index[0],end = Test.index[-1])\n",
    "MAPE(pred_hw,Test.Sales) "
   ]
  },
  {
   "cell_type": "code",
   "execution_count": 152,
   "metadata": {},
   "outputs": [
    {
     "data": {
      "text/plain": [
       "5.183646152875718"
      ]
     },
     "execution_count": 152,
     "metadata": {},
     "output_type": "execute_result"
    }
   ],
   "source": [
    "### Holts winter exponential smoothing with additive seasonality and additive trend\n",
    "hwe_model_add_add = ExponentialSmoothing(Train[\"Sales\"],seasonal=\"add\",trend=\"add\",seasonal_periods=12).fit() #add the trend to the model\n",
    "pred_hwe_add_add = hwe_model_add_add.predict(start = Test.index[0],end = Test.index[-1])\n",
    "MAPE(pred_hwe_add_add,Test.Sales) "
   ]
  },
  {
   "cell_type": "code",
   "execution_count": 153,
   "metadata": {},
   "outputs": [
    {
     "data": {
      "text/plain": [
       "2.8210826604373076"
      ]
     },
     "execution_count": 153,
     "metadata": {},
     "output_type": "execute_result"
    }
   ],
   "source": [
    "### Holts winter exponential smoothing with multiplicative seasonality and additive trend\n",
    "hwe_model_mul_add = ExponentialSmoothing(Train[\"Sales\"],seasonal=\"mul\",trend=\"add\",seasonal_periods=12).fit() \n",
    "pred_hwe_mul_add = hwe_model_mul_add.predict(start = Test.index[0],end = Test.index[-1])\n",
    "MAPE(pred_hwe_mul_add,Test.Sales)"
   ]
  },
  {
   "cell_type": "code",
   "execution_count": 155,
   "metadata": {},
   "outputs": [],
   "source": [
    "## Final Model by combining train and test\n",
    "hwe_model_add_add = ExponentialSmoothing(coca[\"Sales\"],seasonal=\"mul\",trend=\"add\",seasonal_periods=12).fit()\n"
   ]
  },
  {
   "cell_type": "code",
   "execution_count": 156,
   "metadata": {},
   "outputs": [
    {
     "data": {
      "text/plain": [
       "42    4921.447580\n",
       "43    4588.028784\n",
       "44    4532.565323\n",
       "45    5757.516576\n",
       "46    5816.510843\n",
       "47    5209.024968\n",
       "48    4956.941695\n",
       "49    6238.284440\n",
       "50    6082.913182\n",
       "51    5456.477015\n",
       "52    5257.401248\n",
       "53    6548.328773\n",
       "54    6115.799859\n",
       "55    5679.394609\n",
       "56    5589.781039\n",
       "57    7074.845328\n",
       "58    7122.437732\n",
       "59    6357.078577\n",
       "60    6029.733557\n",
       "61    7564.469244\n",
       "dtype: float64"
      ]
     },
     "execution_count": 156,
     "metadata": {},
     "output_type": "execute_result"
    }
   ],
   "source": [
    "#Forecasting for next 20 time periods\n",
    "hwe_model_add_add.forecast(20)"
   ]
  },
  {
   "cell_type": "markdown",
   "metadata": {},
   "source": [
    "# FOR AIRLINES PASSANGER DATASET"
   ]
  },
  {
   "cell_type": "code",
   "execution_count": 170,
   "metadata": {},
   "outputs": [],
   "source": [
    "import pandas as pd\n",
    "import seaborn as sns\n",
    "from pandas import read_excel\n",
    "from matplotlib import pyplot"
   ]
  },
  {
   "cell_type": "code",
   "execution_count": 182,
   "metadata": {},
   "outputs": [
    {
     "data": {
      "text/html": [
       "<div>\n",
       "<style scoped>\n",
       "    .dataframe tbody tr th:only-of-type {\n",
       "        vertical-align: middle;\n",
       "    }\n",
       "\n",
       "    .dataframe tbody tr th {\n",
       "        vertical-align: top;\n",
       "    }\n",
       "\n",
       "    .dataframe thead th {\n",
       "        text-align: right;\n",
       "    }\n",
       "</style>\n",
       "<table border=\"1\" class=\"dataframe\">\n",
       "  <thead>\n",
       "    <tr style=\"text-align: right;\">\n",
       "      <th></th>\n",
       "      <th>Month</th>\n",
       "      <th>Passengers</th>\n",
       "    </tr>\n",
       "  </thead>\n",
       "  <tbody>\n",
       "    <tr>\n",
       "      <th>0</th>\n",
       "      <td>1995-01-01</td>\n",
       "      <td>112</td>\n",
       "    </tr>\n",
       "    <tr>\n",
       "      <th>1</th>\n",
       "      <td>1995-02-01</td>\n",
       "      <td>118</td>\n",
       "    </tr>\n",
       "    <tr>\n",
       "      <th>2</th>\n",
       "      <td>1995-03-01</td>\n",
       "      <td>132</td>\n",
       "    </tr>\n",
       "    <tr>\n",
       "      <th>3</th>\n",
       "      <td>1995-04-01</td>\n",
       "      <td>129</td>\n",
       "    </tr>\n",
       "    <tr>\n",
       "      <th>4</th>\n",
       "      <td>1995-05-01</td>\n",
       "      <td>121</td>\n",
       "    </tr>\n",
       "    <tr>\n",
       "      <th>...</th>\n",
       "      <td>...</td>\n",
       "      <td>...</td>\n",
       "    </tr>\n",
       "    <tr>\n",
       "      <th>91</th>\n",
       "      <td>2002-08-01</td>\n",
       "      <td>405</td>\n",
       "    </tr>\n",
       "    <tr>\n",
       "      <th>92</th>\n",
       "      <td>2002-09-01</td>\n",
       "      <td>355</td>\n",
       "    </tr>\n",
       "    <tr>\n",
       "      <th>93</th>\n",
       "      <td>2002-10-01</td>\n",
       "      <td>306</td>\n",
       "    </tr>\n",
       "    <tr>\n",
       "      <th>94</th>\n",
       "      <td>2002-11-01</td>\n",
       "      <td>271</td>\n",
       "    </tr>\n",
       "    <tr>\n",
       "      <th>95</th>\n",
       "      <td>2002-12-01</td>\n",
       "      <td>306</td>\n",
       "    </tr>\n",
       "  </tbody>\n",
       "</table>\n",
       "<p>96 rows × 2 columns</p>\n",
       "</div>"
      ],
      "text/plain": [
       "        Month  Passengers\n",
       "0  1995-01-01         112\n",
       "1  1995-02-01         118\n",
       "2  1995-03-01         132\n",
       "3  1995-04-01         129\n",
       "4  1995-05-01         121\n",
       "..        ...         ...\n",
       "91 2002-08-01         405\n",
       "92 2002-09-01         355\n",
       "93 2002-10-01         306\n",
       "94 2002-11-01         271\n",
       "95 2002-12-01         306\n",
       "\n",
       "[96 rows x 2 columns]"
      ]
     },
     "execution_count": 182,
     "metadata": {},
     "output_type": "execute_result"
    }
   ],
   "source": [
    "data = read_excel('C:/Users/RajabhishekAditya/Downloads/forecasting/Airlines+Data.xlsx')\n",
    "data"
   ]
  },
  {
   "cell_type": "code",
   "execution_count": 183,
   "metadata": {},
   "outputs": [
    {
     "data": {
      "text/plain": [
       "Index(['Month', 'Passengers'], dtype='object')"
      ]
     },
     "execution_count": 183,
     "metadata": {},
     "output_type": "execute_result"
    }
   ],
   "source": [
    "data.columns"
   ]
  },
  {
   "cell_type": "code",
   "execution_count": 184,
   "metadata": {},
   "outputs": [
    {
     "name": "stdout",
     "output_type": "stream",
     "text": [
      "<class 'pandas.core.frame.DataFrame'>\n",
      "RangeIndex: 96 entries, 0 to 95\n",
      "Data columns (total 2 columns):\n",
      " #   Column      Non-Null Count  Dtype         \n",
      "---  ------      --------------  -----         \n",
      " 0   Month       96 non-null     datetime64[ns]\n",
      " 1   Passengers  96 non-null     int64         \n",
      "dtypes: datetime64[ns](1), int64(1)\n",
      "memory usage: 1.6 KB\n"
     ]
    }
   ],
   "source": [
    "data.info()"
   ]
  },
  {
   "cell_type": "code",
   "execution_count": 185,
   "metadata": {},
   "outputs": [
    {
     "data": {
      "text/html": [
       "<div>\n",
       "<style scoped>\n",
       "    .dataframe tbody tr th:only-of-type {\n",
       "        vertical-align: middle;\n",
       "    }\n",
       "\n",
       "    .dataframe tbody tr th {\n",
       "        vertical-align: top;\n",
       "    }\n",
       "\n",
       "    .dataframe thead th {\n",
       "        text-align: right;\n",
       "    }\n",
       "</style>\n",
       "<table border=\"1\" class=\"dataframe\">\n",
       "  <thead>\n",
       "    <tr style=\"text-align: right;\">\n",
       "      <th></th>\n",
       "      <th>Passengers</th>\n",
       "    </tr>\n",
       "  </thead>\n",
       "  <tbody>\n",
       "    <tr>\n",
       "      <th>count</th>\n",
       "      <td>96.000000</td>\n",
       "    </tr>\n",
       "    <tr>\n",
       "      <th>mean</th>\n",
       "      <td>213.708333</td>\n",
       "    </tr>\n",
       "    <tr>\n",
       "      <th>std</th>\n",
       "      <td>71.918216</td>\n",
       "    </tr>\n",
       "    <tr>\n",
       "      <th>min</th>\n",
       "      <td>104.000000</td>\n",
       "    </tr>\n",
       "    <tr>\n",
       "      <th>25%</th>\n",
       "      <td>156.000000</td>\n",
       "    </tr>\n",
       "    <tr>\n",
       "      <th>50%</th>\n",
       "      <td>200.000000</td>\n",
       "    </tr>\n",
       "    <tr>\n",
       "      <th>75%</th>\n",
       "      <td>264.750000</td>\n",
       "    </tr>\n",
       "    <tr>\n",
       "      <th>max</th>\n",
       "      <td>413.000000</td>\n",
       "    </tr>\n",
       "  </tbody>\n",
       "</table>\n",
       "</div>"
      ],
      "text/plain": [
       "       Passengers\n",
       "count   96.000000\n",
       "mean   213.708333\n",
       "std     71.918216\n",
       "min    104.000000\n",
       "25%    156.000000\n",
       "50%    200.000000\n",
       "75%    264.750000\n",
       "max    413.000000"
      ]
     },
     "execution_count": 185,
     "metadata": {},
     "output_type": "execute_result"
    }
   ],
   "source": [
    "data.describe()"
   ]
  },
  {
   "cell_type": "code",
   "execution_count": 186,
   "metadata": {},
   "outputs": [
    {
     "name": "stderr",
     "output_type": "stream",
     "text": [
      "C:\\Users\\RajabhishekAditya\\anaconda3\\lib\\site-packages\\seaborn\\distributions.py:2551: FutureWarning: `distplot` is a deprecated function and will be removed in a future version. Please adapt your code to use either `displot` (a figure-level function with similar flexibility) or `histplot` (an axes-level function for histograms).\n",
      "  warnings.warn(msg, FutureWarning)\n"
     ]
    },
    {
     "name": "stdout",
     "output_type": "stream",
     "text": [
      "skewness: 0.637375\n",
      "kurtosis: -0.128121\n"
     ]
    },
    {
     "data": {
      "image/png": "[encoded data removed]",
      "text/plain": [
       "<Figure size 432x288 with 1 Axes>"
      ]
     },
     "metadata": {
      "needs_background": "light"
     },
     "output_type": "display_data"
    }
   ],
   "source": [
    "sns.distplot(data['Passengers'])\n",
    "print(\"skewness: %f\" % data.skew())\n",
    "print(\"kurtosis: %f\" % data.kurt())"
   ]
  },
  {
   "cell_type": "code",
   "execution_count": 187,
   "metadata": {},
   "outputs": [
    {
     "name": "stdout",
     "output_type": "stream",
     "text": [
      "Passengers    1.0\n",
      "Name: Passengers, dtype: float64\n"
     ]
    }
   ],
   "source": [
    "corr = data.corr()\n",
    "corr.sort_values([\"Passengers\"], ascending = False, inplace = True)\n",
    "\n",
    "print(corr.Passengers)"
   ]
  },
  {
   "cell_type": "code",
   "execution_count": 188,
   "metadata": {},
   "outputs": [
    {
     "data": {
      "image/png": "[encoded data removed]",
      "text/plain": [
       "<Figure size 432x288 with 1 Axes>"
      ]
     },
     "metadata": {
      "needs_background": "light"
     },
     "output_type": "display_data"
    }
   ],
   "source": [
    "data.plot()\n",
    "pyplot.show()"
   ]
  },
  {
   "cell_type": "code",
   "execution_count": 189,
   "metadata": {},
   "outputs": [
    {
     "data": {
      "image/png": "[encoded data removed]",
      "text/plain": [
       "<Figure size 432x288 with 1 Axes>"
      ]
     },
     "metadata": {
      "needs_background": "light"
     },
     "output_type": "display_data"
    }
   ],
   "source": [
    "data.hist()\n",
    "pyplot.show()"
   ]
  },
  {
   "cell_type": "code",
   "execution_count": 190,
   "metadata": {},
   "outputs": [
    {
     "data": {
      "text/plain": [
       "<AxesSubplot:xlabel='Month', ylabel='Passengers'>"
      ]
     },
     "execution_count": 190,
     "metadata": {},
     "output_type": "execute_result"
    },
    {
     "data": {
      "image/png": "[encoded data removed]",
      "text/plain": [
       "<Figure size 1800x216 with 1 Axes>"
      ]
     },
     "metadata": {
      "needs_background": "light"
     },
     "output_type": "display_data"
    }
   ],
   "source": [
    "import matplotlib.pyplot as plt\n",
    "plt.figure(figsize=(25,3))\n",
    "sns.lineplot(x=\"Month\",y=\"Passengers\",data=data)"
   ]
  },
  {
   "cell_type": "code",
   "execution_count": 191,
   "metadata": {},
   "outputs": [],
   "source": [
    "data[\"Date\"] = pd.to_datetime(data.Month,format=\"%b-%y\")\n",
    "data[\"month\"] = data.Date.dt.strftime(\"%b\") # month extraction\n",
    "data[\"year\"] = data.Date.dt.strftime(\"%Y\") # year extraction\n"
   ]
  },
  {
   "cell_type": "code",
   "execution_count": 192,
   "metadata": {},
   "outputs": [
    {
     "data": {
      "text/html": [
       "<div>\n",
       "<style scoped>\n",
       "    .dataframe tbody tr th:only-of-type {\n",
       "        vertical-align: middle;\n",
       "    }\n",
       "\n",
       "    .dataframe tbody tr th {\n",
       "        vertical-align: top;\n",
       "    }\n",
       "\n",
       "    .dataframe thead th {\n",
       "        text-align: right;\n",
       "    }\n",
       "</style>\n",
       "<table border=\"1\" class=\"dataframe\">\n",
       "  <thead>\n",
       "    <tr style=\"text-align: right;\">\n",
       "      <th></th>\n",
       "      <th>Month</th>\n",
       "      <th>Passengers</th>\n",
       "      <th>Date</th>\n",
       "      <th>month</th>\n",
       "      <th>year</th>\n",
       "    </tr>\n",
       "  </thead>\n",
       "  <tbody>\n",
       "    <tr>\n",
       "      <th>0</th>\n",
       "      <td>1995-01-01</td>\n",
       "      <td>112</td>\n",
       "      <td>1995-01-01</td>\n",
       "      <td>Jan</td>\n",
       "      <td>1995</td>\n",
       "    </tr>\n",
       "    <tr>\n",
       "      <th>1</th>\n",
       "      <td>1995-02-01</td>\n",
       "      <td>118</td>\n",
       "      <td>1995-02-01</td>\n",
       "      <td>Feb</td>\n",
       "      <td>1995</td>\n",
       "    </tr>\n",
       "    <tr>\n",
       "      <th>2</th>\n",
       "      <td>1995-03-01</td>\n",
       "      <td>132</td>\n",
       "      <td>1995-03-01</td>\n",
       "      <td>Mar</td>\n",
       "      <td>1995</td>\n",
       "    </tr>\n",
       "    <tr>\n",
       "      <th>3</th>\n",
       "      <td>1995-04-01</td>\n",
       "      <td>129</td>\n",
       "      <td>1995-04-01</td>\n",
       "      <td>Apr</td>\n",
       "      <td>1995</td>\n",
       "    </tr>\n",
       "    <tr>\n",
       "      <th>4</th>\n",
       "      <td>1995-05-01</td>\n",
       "      <td>121</td>\n",
       "      <td>1995-05-01</td>\n",
       "      <td>May</td>\n",
       "      <td>1995</td>\n",
       "    </tr>\n",
       "    <tr>\n",
       "      <th>...</th>\n",
       "      <td>...</td>\n",
       "      <td>...</td>\n",
       "      <td>...</td>\n",
       "      <td>...</td>\n",
       "      <td>...</td>\n",
       "    </tr>\n",
       "    <tr>\n",
       "      <th>91</th>\n",
       "      <td>2002-08-01</td>\n",
       "      <td>405</td>\n",
       "      <td>2002-08-01</td>\n",
       "      <td>Aug</td>\n",
       "      <td>2002</td>\n",
       "    </tr>\n",
       "    <tr>\n",
       "      <th>92</th>\n",
       "      <td>2002-09-01</td>\n",
       "      <td>355</td>\n",
       "      <td>2002-09-01</td>\n",
       "      <td>Sep</td>\n",
       "      <td>2002</td>\n",
       "    </tr>\n",
       "    <tr>\n",
       "      <th>93</th>\n",
       "      <td>2002-10-01</td>\n",
       "      <td>306</td>\n",
       "      <td>2002-10-01</td>\n",
       "      <td>Oct</td>\n",
       "      <td>2002</td>\n",
       "    </tr>\n",
       "    <tr>\n",
       "      <th>94</th>\n",
       "      <td>2002-11-01</td>\n",
       "      <td>271</td>\n",
       "      <td>2002-11-01</td>\n",
       "      <td>Nov</td>\n",
       "      <td>2002</td>\n",
       "    </tr>\n",
       "    <tr>\n",
       "      <th>95</th>\n",
       "      <td>2002-12-01</td>\n",
       "      <td>306</td>\n",
       "      <td>2002-12-01</td>\n",
       "      <td>Dec</td>\n",
       "      <td>2002</td>\n",
       "    </tr>\n",
       "  </tbody>\n",
       "</table>\n",
       "<p>96 rows × 5 columns</p>\n",
       "</div>"
      ],
      "text/plain": [
       "        Month  Passengers       Date month  year\n",
       "0  1995-01-01         112 1995-01-01   Jan  1995\n",
       "1  1995-02-01         118 1995-02-01   Feb  1995\n",
       "2  1995-03-01         132 1995-03-01   Mar  1995\n",
       "3  1995-04-01         129 1995-04-01   Apr  1995\n",
       "4  1995-05-01         121 1995-05-01   May  1995\n",
       "..        ...         ...        ...   ...   ...\n",
       "91 2002-08-01         405 2002-08-01   Aug  2002\n",
       "92 2002-09-01         355 2002-09-01   Sep  2002\n",
       "93 2002-10-01         306 2002-10-01   Oct  2002\n",
       "94 2002-11-01         271 2002-11-01   Nov  2002\n",
       "95 2002-12-01         306 2002-12-01   Dec  2002\n",
       "\n",
       "[96 rows x 5 columns]"
      ]
     },
     "execution_count": 192,
     "metadata": {},
     "output_type": "execute_result"
    }
   ],
   "source": [
    "data"
   ]
  },
  {
   "cell_type": "code",
   "execution_count": 193,
   "metadata": {},
   "outputs": [
    {
     "name": "stderr",
     "output_type": "stream",
     "text": [
      "<ipython-input-193-ff134166d225>:10: SettingWithCopyWarning: \n",
      "A value is trying to be set on a copy of a slice from a DataFrame\n",
      "\n",
      "See the caveats in the documentation: https://pandas.pydata.org/pandas-docs/stable/user_guide/indexing.html#returning-a-view-versus-a-copy\n",
      "  data['nn'][i]=n[0:5]\n",
      "C:\\Users\\RajabhishekAditya\\anaconda3\\lib\\site-packages\\pandas\\core\\indexing.py:670: SettingWithCopyWarning: \n",
      "A value is trying to be set on a copy of a slice from a DataFrame\n",
      "\n",
      "See the caveats in the documentation: https://pandas.pydata.org/pandas-docs/stable/user_guide/indexing.html#returning-a-view-versus-a-copy\n",
      "  iloc._setitem_with_indexer(indexer, value)\n"
     ]
    },
    {
     "data": {
      "text/html": [
       "<div>\n",
       "<style scoped>\n",
       "    .dataframe tbody tr th:only-of-type {\n",
       "        vertical-align: middle;\n",
       "    }\n",
       "\n",
       "    .dataframe tbody tr th {\n",
       "        vertical-align: top;\n",
       "    }\n",
       "\n",
       "    .dataframe thead th {\n",
       "        text-align: right;\n",
       "    }\n",
       "</style>\n",
       "<table border=\"1\" class=\"dataframe\">\n",
       "  <thead>\n",
       "    <tr style=\"text-align: right;\">\n",
       "      <th></th>\n",
       "      <th>Month</th>\n",
       "      <th>Passengers</th>\n",
       "      <th>Date</th>\n",
       "      <th>month</th>\n",
       "      <th>year</th>\n",
       "      <th>nn</th>\n",
       "      <th>Apr</th>\n",
       "      <th>Aug</th>\n",
       "      <th>Dec</th>\n",
       "      <th>Feb</th>\n",
       "      <th>Jan</th>\n",
       "      <th>Jul</th>\n",
       "      <th>Jun</th>\n",
       "      <th>Mar</th>\n",
       "      <th>May</th>\n",
       "      <th>Nov</th>\n",
       "      <th>Oct</th>\n",
       "      <th>Sep</th>\n",
       "      <th>t</th>\n",
       "      <th>t_square</th>\n",
       "    </tr>\n",
       "  </thead>\n",
       "  <tbody>\n",
       "    <tr>\n",
       "      <th>0</th>\n",
       "      <td>1995-01-01</td>\n",
       "      <td>112</td>\n",
       "      <td>1995-01-01</td>\n",
       "      <td>Jan</td>\n",
       "      <td>1995</td>\n",
       "      <td>Jan</td>\n",
       "      <td>0</td>\n",
       "      <td>0</td>\n",
       "      <td>0</td>\n",
       "      <td>0</td>\n",
       "      <td>1</td>\n",
       "      <td>0</td>\n",
       "      <td>0</td>\n",
       "      <td>0</td>\n",
       "      <td>0</td>\n",
       "      <td>0</td>\n",
       "      <td>0</td>\n",
       "      <td>0</td>\n",
       "      <td>1</td>\n",
       "      <td>1</td>\n",
       "    </tr>\n",
       "    <tr>\n",
       "      <th>1</th>\n",
       "      <td>1995-02-01</td>\n",
       "      <td>118</td>\n",
       "      <td>1995-02-01</td>\n",
       "      <td>Feb</td>\n",
       "      <td>1995</td>\n",
       "      <td>Feb</td>\n",
       "      <td>0</td>\n",
       "      <td>0</td>\n",
       "      <td>0</td>\n",
       "      <td>1</td>\n",
       "      <td>0</td>\n",
       "      <td>0</td>\n",
       "      <td>0</td>\n",
       "      <td>0</td>\n",
       "      <td>0</td>\n",
       "      <td>0</td>\n",
       "      <td>0</td>\n",
       "      <td>0</td>\n",
       "      <td>2</td>\n",
       "      <td>4</td>\n",
       "    </tr>\n",
       "    <tr>\n",
       "      <th>2</th>\n",
       "      <td>1995-03-01</td>\n",
       "      <td>132</td>\n",
       "      <td>1995-03-01</td>\n",
       "      <td>Mar</td>\n",
       "      <td>1995</td>\n",
       "      <td>Mar</td>\n",
       "      <td>0</td>\n",
       "      <td>0</td>\n",
       "      <td>0</td>\n",
       "      <td>0</td>\n",
       "      <td>0</td>\n",
       "      <td>0</td>\n",
       "      <td>0</td>\n",
       "      <td>1</td>\n",
       "      <td>0</td>\n",
       "      <td>0</td>\n",
       "      <td>0</td>\n",
       "      <td>0</td>\n",
       "      <td>3</td>\n",
       "      <td>9</td>\n",
       "    </tr>\n",
       "    <tr>\n",
       "      <th>3</th>\n",
       "      <td>1995-04-01</td>\n",
       "      <td>129</td>\n",
       "      <td>1995-04-01</td>\n",
       "      <td>Apr</td>\n",
       "      <td>1995</td>\n",
       "      <td>Apr</td>\n",
       "      <td>1</td>\n",
       "      <td>0</td>\n",
       "      <td>0</td>\n",
       "      <td>0</td>\n",
       "      <td>0</td>\n",
       "      <td>0</td>\n",
       "      <td>0</td>\n",
       "      <td>0</td>\n",
       "      <td>0</td>\n",
       "      <td>0</td>\n",
       "      <td>0</td>\n",
       "      <td>0</td>\n",
       "      <td>4</td>\n",
       "      <td>16</td>\n",
       "    </tr>\n",
       "    <tr>\n",
       "      <th>4</th>\n",
       "      <td>1995-05-01</td>\n",
       "      <td>121</td>\n",
       "      <td>1995-05-01</td>\n",
       "      <td>May</td>\n",
       "      <td>1995</td>\n",
       "      <td>May</td>\n",
       "      <td>0</td>\n",
       "      <td>0</td>\n",
       "      <td>0</td>\n",
       "      <td>0</td>\n",
       "      <td>0</td>\n",
       "      <td>0</td>\n",
       "      <td>0</td>\n",
       "      <td>0</td>\n",
       "      <td>1</td>\n",
       "      <td>0</td>\n",
       "      <td>0</td>\n",
       "      <td>0</td>\n",
       "      <td>5</td>\n",
       "      <td>25</td>\n",
       "    </tr>\n",
       "    <tr>\n",
       "      <th>...</th>\n",
       "      <td>...</td>\n",
       "      <td>...</td>\n",
       "      <td>...</td>\n",
       "      <td>...</td>\n",
       "      <td>...</td>\n",
       "      <td>...</td>\n",
       "      <td>...</td>\n",
       "      <td>...</td>\n",
       "      <td>...</td>\n",
       "      <td>...</td>\n",
       "      <td>...</td>\n",
       "      <td>...</td>\n",
       "      <td>...</td>\n",
       "      <td>...</td>\n",
       "      <td>...</td>\n",
       "      <td>...</td>\n",
       "      <td>...</td>\n",
       "      <td>...</td>\n",
       "      <td>...</td>\n",
       "      <td>...</td>\n",
       "    </tr>\n",
       "    <tr>\n",
       "      <th>91</th>\n",
       "      <td>2002-08-01</td>\n",
       "      <td>405</td>\n",
       "      <td>2002-08-01</td>\n",
       "      <td>Aug</td>\n",
       "      <td>2002</td>\n",
       "      <td>Aug</td>\n",
       "      <td>0</td>\n",
       "      <td>1</td>\n",
       "      <td>0</td>\n",
       "      <td>0</td>\n",
       "      <td>0</td>\n",
       "      <td>0</td>\n",
       "      <td>0</td>\n",
       "      <td>0</td>\n",
       "      <td>0</td>\n",
       "      <td>0</td>\n",
       "      <td>0</td>\n",
       "      <td>0</td>\n",
       "      <td>92</td>\n",
       "      <td>8464</td>\n",
       "    </tr>\n",
       "    <tr>\n",
       "      <th>92</th>\n",
       "      <td>2002-09-01</td>\n",
       "      <td>355</td>\n",
       "      <td>2002-09-01</td>\n",
       "      <td>Sep</td>\n",
       "      <td>2002</td>\n",
       "      <td>Sep</td>\n",
       "      <td>0</td>\n",
       "      <td>0</td>\n",
       "      <td>0</td>\n",
       "      <td>0</td>\n",
       "      <td>0</td>\n",
       "      <td>0</td>\n",
       "      <td>0</td>\n",
       "      <td>0</td>\n",
       "      <td>0</td>\n",
       "      <td>0</td>\n",
       "      <td>0</td>\n",
       "      <td>1</td>\n",
       "      <td>93</td>\n",
       "      <td>8649</td>\n",
       "    </tr>\n",
       "    <tr>\n",
       "      <th>93</th>\n",
       "      <td>2002-10-01</td>\n",
       "      <td>306</td>\n",
       "      <td>2002-10-01</td>\n",
       "      <td>Oct</td>\n",
       "      <td>2002</td>\n",
       "      <td>Oct</td>\n",
       "      <td>0</td>\n",
       "      <td>0</td>\n",
       "      <td>0</td>\n",
       "      <td>0</td>\n",
       "      <td>0</td>\n",
       "      <td>0</td>\n",
       "      <td>0</td>\n",
       "      <td>0</td>\n",
       "      <td>0</td>\n",
       "      <td>0</td>\n",
       "      <td>1</td>\n",
       "      <td>0</td>\n",
       "      <td>94</td>\n",
       "      <td>8836</td>\n",
       "    </tr>\n",
       "    <tr>\n",
       "      <th>94</th>\n",
       "      <td>2002-11-01</td>\n",
       "      <td>271</td>\n",
       "      <td>2002-11-01</td>\n",
       "      <td>Nov</td>\n",
       "      <td>2002</td>\n",
       "      <td>Nov</td>\n",
       "      <td>0</td>\n",
       "      <td>0</td>\n",
       "      <td>0</td>\n",
       "      <td>0</td>\n",
       "      <td>0</td>\n",
       "      <td>0</td>\n",
       "      <td>0</td>\n",
       "      <td>0</td>\n",
       "      <td>0</td>\n",
       "      <td>1</td>\n",
       "      <td>0</td>\n",
       "      <td>0</td>\n",
       "      <td>95</td>\n",
       "      <td>9025</td>\n",
       "    </tr>\n",
       "    <tr>\n",
       "      <th>95</th>\n",
       "      <td>2002-12-01</td>\n",
       "      <td>306</td>\n",
       "      <td>2002-12-01</td>\n",
       "      <td>Dec</td>\n",
       "      <td>2002</td>\n",
       "      <td>Dec</td>\n",
       "      <td>0</td>\n",
       "      <td>0</td>\n",
       "      <td>1</td>\n",
       "      <td>0</td>\n",
       "      <td>0</td>\n",
       "      <td>0</td>\n",
       "      <td>0</td>\n",
       "      <td>0</td>\n",
       "      <td>0</td>\n",
       "      <td>0</td>\n",
       "      <td>0</td>\n",
       "      <td>0</td>\n",
       "      <td>96</td>\n",
       "      <td>9216</td>\n",
       "    </tr>\n",
       "  </tbody>\n",
       "</table>\n",
       "<p>96 rows × 20 columns</p>\n",
       "</div>"
      ],
      "text/plain": [
       "        Month  Passengers       Date month  year   nn  Apr  Aug  Dec  Feb  \\\n",
       "0  1995-01-01         112 1995-01-01   Jan  1995  Jan    0    0    0    0   \n",
       "1  1995-02-01         118 1995-02-01   Feb  1995  Feb    0    0    0    1   \n",
       "2  1995-03-01         132 1995-03-01   Mar  1995  Mar    0    0    0    0   \n",
       "3  1995-04-01         129 1995-04-01   Apr  1995  Apr    1    0    0    0   \n",
       "4  1995-05-01         121 1995-05-01   May  1995  May    0    0    0    0   \n",
       "..        ...         ...        ...   ...   ...  ...  ...  ...  ...  ...   \n",
       "91 2002-08-01         405 2002-08-01   Aug  2002  Aug    0    1    0    0   \n",
       "92 2002-09-01         355 2002-09-01   Sep  2002  Sep    0    0    0    0   \n",
       "93 2002-10-01         306 2002-10-01   Oct  2002  Oct    0    0    0    0   \n",
       "94 2002-11-01         271 2002-11-01   Nov  2002  Nov    0    0    0    0   \n",
       "95 2002-12-01         306 2002-12-01   Dec  2002  Dec    0    0    1    0   \n",
       "\n",
       "    Jan  Jul  Jun  Mar  May  Nov  Oct  Sep   t  t_square  \n",
       "0     1    0    0    0    0    0    0    0   1         1  \n",
       "1     0    0    0    0    0    0    0    0   2         4  \n",
       "2     0    0    0    1    0    0    0    0   3         9  \n",
       "3     0    0    0    0    0    0    0    0   4        16  \n",
       "4     0    0    0    0    1    0    0    0   5        25  \n",
       "..  ...  ...  ...  ...  ...  ...  ...  ...  ..       ...  \n",
       "91    0    0    0    0    0    0    0    0  92      8464  \n",
       "92    0    0    0    0    0    0    0    1  93      8649  \n",
       "93    0    0    0    0    0    0    1    0  94      8836  \n",
       "94    0    0    0    0    0    1    0    0  95      9025  \n",
       "95    0    0    0    0    0    0    0    0  96      9216  \n",
       "\n",
       "[96 rows x 20 columns]"
      ]
     },
     "execution_count": 193,
     "metadata": {},
     "output_type": "execute_result"
    }
   ],
   "source": [
    "import numpy as np\n",
    "nn=['Jan','Feb','Mar','Apr','May','Jun','Jul','Aug','Sep','Oct','Nov']\n",
    "n=data['month'][0]\n",
    "n[0:5]\n",
    "\n",
    "data['nn']=0\n",
    "\n",
    "for i in range(96):\n",
    "    n=data['month'][i]\n",
    "    data['nn'][i]=n[0:5]\n",
    "    \n",
    "dummy=pd.DataFrame(pd.get_dummies(data['nn']))\n",
    "\n",
    "mm=pd.concat((data,dummy),axis=1)\n",
    "t= np.arange(1,97)\n",
    "mm['t']=t\n",
    "mm['t_square']=mm['t']*mm['t']\n",
    "mm"
   ]
  },
  {
   "cell_type": "code",
   "execution_count": 194,
   "metadata": {},
   "outputs": [
    {
     "name": "stdout",
     "output_type": "stream",
     "text": [
      "<class 'pandas.core.frame.DataFrame'>\n",
      "RangeIndex: 96 entries, 0 to 95\n",
      "Data columns (total 20 columns):\n",
      " #   Column      Non-Null Count  Dtype         \n",
      "---  ------      --------------  -----         \n",
      " 0   Month       96 non-null     datetime64[ns]\n",
      " 1   Passengers  96 non-null     int64         \n",
      " 2   Date        96 non-null     datetime64[ns]\n",
      " 3   month       96 non-null     object        \n",
      " 4   year        96 non-null     object        \n",
      " 5   nn          96 non-null     object        \n",
      " 6   Apr         96 non-null     uint8         \n",
      " 7   Aug         96 non-null     uint8         \n",
      " 8   Dec         96 non-null     uint8         \n",
      " 9   Feb         96 non-null     uint8         \n",
      " 10  Jan         96 non-null     uint8         \n",
      " 11  Jul         96 non-null     uint8         \n",
      " 12  Jun         96 non-null     uint8         \n",
      " 13  Mar         96 non-null     uint8         \n",
      " 14  May         96 non-null     uint8         \n",
      " 15  Nov         96 non-null     uint8         \n",
      " 16  Oct         96 non-null     uint8         \n",
      " 17  Sep         96 non-null     uint8         \n",
      " 18  t           96 non-null     int32         \n",
      " 19  t_square    96 non-null     int32         \n",
      "dtypes: datetime64[ns](2), int32(2), int64(1), object(3), uint8(12)\n",
      "memory usage: 6.5+ KB\n"
     ]
    }
   ],
   "source": [
    "mm.info()\n"
   ]
  },
  {
   "cell_type": "code",
   "execution_count": 195,
   "metadata": {},
   "outputs": [
    {
     "data": {
      "text/plain": [
       "<AxesSubplot:>"
      ]
     },
     "execution_count": 195,
     "metadata": {},
     "output_type": "execute_result"
    },
    {
     "data": {
      "image/png": "[encoded data removed]",
      "text/plain": [
       "<Figure size 432x288 with 1 Axes>"
      ]
     },
     "metadata": {
      "needs_background": "light"
     },
     "output_type": "display_data"
    }
   ],
   "source": [
    "log_Passengers=np.log(mm['Passengers'])\n",
    "mm['log_Passengers']=log_Passengers\n",
    "\n",
    "train= mm.head(80)\n",
    "test=mm.tail(16)\n",
    "mm.Passengers.plot()"
   ]
  },
  {
   "cell_type": "code",
   "execution_count": 196,
   "metadata": {},
   "outputs": [
    {
     "data": {
      "text/plain": [
       "17.12243319268637"
      ]
     },
     "execution_count": 196,
     "metadata": {},
     "output_type": "execute_result"
    }
   ],
   "source": [
    "#Linear Model\n",
    "import statsmodels.formula.api as smf \n",
    "\n",
    "#linear model\n",
    "linear= smf.ols('Passengers~t',data=train).fit()\n",
    "predlin=pd.Series(linear.predict(pd.DataFrame(test['t'])))\n",
    "rmselin=np.sqrt((np.mean(np.array(test['Passengers'])-np.array(predlin))**2))\n",
    "rmselin\n"
   ]
  },
  {
   "cell_type": "code",
   "execution_count": 197,
   "metadata": {},
   "outputs": [
    {
     "data": {
      "text/plain": [
       "43.6544036958425"
      ]
     },
     "execution_count": 197,
     "metadata": {},
     "output_type": "execute_result"
    }
   ],
   "source": [
    "#quadratic model\n",
    "quad=smf.ols('Passengers~t+t_square',data=train).fit()\n",
    "predquad=pd.Series(quad.predict(pd.DataFrame(test[['t','t_square']])))\n",
    "rmsequad=np.sqrt(np.mean((np.array(test['Passengers'])-np.array(predquad))**2))\n",
    "rmsequad"
   ]
  },
  {
   "cell_type": "code",
   "execution_count": 198,
   "metadata": {},
   "outputs": [
    {
     "data": {
      "text/plain": [
       "43.79373939334322"
      ]
     },
     "execution_count": 198,
     "metadata": {},
     "output_type": "execute_result"
    }
   ],
   "source": [
    "#exponential model\n",
    "expo=smf.ols('log_Passengers~t',data=train).fit()\n",
    "predexp=pd.Series(expo.predict(pd.DataFrame(test['t'])))\n",
    "predexp\n",
    "rmseexpo=np.sqrt(np.mean((np.array(test['Passengers'])-np.array(np.exp(predexp)))**2))\n",
    "rmseexpo\n"
   ]
  },
  {
   "cell_type": "code",
   "execution_count": 199,
   "metadata": {},
   "outputs": [
    {
     "data": {
      "text/plain": [
       "129.26647641443307"
      ]
     },
     "execution_count": 199,
     "metadata": {},
     "output_type": "execute_result"
    }
   ],
   "source": [
    "#additive seasonality\n",
    "additive= smf.ols('Passengers~Jan+Feb+Mar+Apr+May+Jun+Jul+Aug+Sep+Oct+Nov',data=train).fit()\n",
    "predadd=pd.Series(additive.predict(pd.DataFrame(test[['Jan','Feb','Mar','Apr','May','Jun','Jul','Aug','Sep','Oct','Nov']])))\n",
    "predadd\n",
    "rmseadd=np.sqrt(np.mean((np.array(test['Passengers'])-np.array(predadd))**2))\n",
    "rmseadd"
   ]
  },
  {
   "cell_type": "code",
   "execution_count": 200,
   "metadata": {},
   "outputs": [
    {
     "data": {
      "text/plain": [
       "33.0457084785024"
      ]
     },
     "execution_count": 200,
     "metadata": {},
     "output_type": "execute_result"
    }
   ],
   "source": [
    "#additive seasonality with linear trend\n",
    "addlinear= smf.ols('Passengers~t+Jan+Feb+Mar+Apr+May+Jun+Jul+Aug+Sep+Oct+Nov',data=train).fit()\n",
    "predaddlinear=pd.Series(addlinear.predict(pd.DataFrame(test[['t','Jan','Feb','Mar','Apr','May','Jun','Jul','Aug','Sep','Oct','Nov']])))\n",
    "predaddlinear\n",
    "rmseaddlinear=np.sqrt(np.mean((np.array(test['Passengers'])-np.array(predaddlinear))**2))\n",
    "rmseaddlinear"
   ]
  },
  {
   "cell_type": "code",
   "execution_count": 201,
   "metadata": {},
   "outputs": [
    {
     "data": {
      "text/plain": [
       "23.910983570106755"
      ]
     },
     "execution_count": 201,
     "metadata": {},
     "output_type": "execute_result"
    }
   ],
   "source": [
    "#additive seasonality with quadratic trend\n",
    "addquad=smf.ols('Passengers~t+t_square+Jan+Feb+Mar+Apr+May+Jun+Jul+Aug+Sep+Oct+Nov',data=train).fit()\n",
    "predaddquad=pd.Series(addquad.predict(pd.DataFrame(test[['t','t_square','Jan','Feb','Mar','Apr','May','Jun','Jul','Aug','Sep','Oct','Nov']])))\n",
    "rmseaddquad=np.sqrt(np.mean((np.array(test['Passengers'])-np.array(predaddquad))**2))\n",
    "rmseaddquad"
   ]
  },
  {
   "cell_type": "code",
   "execution_count": 202,
   "metadata": {},
   "outputs": [
    {
     "data": {
      "text/plain": [
       "135.32648414621102"
      ]
     },
     "execution_count": 202,
     "metadata": {},
     "output_type": "execute_result"
    }
   ],
   "source": [
    "#multiplicative seasonality\n",
    "mulsea=smf.ols('log_Passengers~Jan+Feb+Mar+Apr+May+Jun+Jul+Aug+Sep+Oct+Nov',data=train).fit()\n",
    "predmul= pd.Series(mulsea.predict(pd.DataFrame(test[['Jan','Feb','Mar','Apr','May','Jun','Jul','Aug','Sep','Oct','Nov']])))\n",
    "rmsemul= np.sqrt(np.mean((np.array(test['Passengers'])-np.array(np.exp(predmul)))**2))\n",
    "rmsemul\n"
   ]
  },
  {
   "cell_type": "code",
   "execution_count": 203,
   "metadata": {},
   "outputs": [
    {
     "data": {
      "text/plain": [
       "9.469000230304077"
      ]
     },
     "execution_count": 203,
     "metadata": {},
     "output_type": "execute_result"
    }
   ],
   "source": [
    "#multiplicative seasonality with linear trend\n",
    "mullin= smf.ols('log_Passengers~t+Jan+Feb+Mar+Apr+May+Jun+Jul+Aug+Sep+Oct+Nov',data=train).fit()\n",
    "predmullin= pd.Series(mullin.predict(pd.DataFrame(test[['t','Jan','Feb','Mar','Apr','May','Jun','Jul','Aug','Sep','Oct','Nov']])))\n",
    "rmsemulin=np.sqrt(np.mean((np.array(test['Passengers'])-np.array(np.exp(predmullin)))**2))\n",
    "rmsemulin"
   ]
  },
  {
   "cell_type": "code",
   "execution_count": 204,
   "metadata": {},
   "outputs": [
    {
     "data": {
      "text/plain": [
       "23.08634854615272"
      ]
     },
     "execution_count": 204,
     "metadata": {},
     "output_type": "execute_result"
    }
   ],
   "source": [
    "#multiplicative seasonality with quadratic trend\n",
    "mul_quad= smf.ols('log_Passengers~t+t_square+Jan+Feb+Mar+Apr+May+Jun+Jul+Aug+Sep+Oct+Nov',data=train).fit()\n",
    "pred_mul_quad= pd.Series(mul_quad.predict(test[['t','t_square','Jan','Feb','Mar','Apr','May','Jun','Jul','Aug','Sep','Oct','Nov']]))\n",
    "rmse_mul_quad=np.sqrt(np.mean((np.array(test['Passengers'])-np.array(np.exp(pred_mul_quad)))**2))\n",
    "rmse_mul_quad"
   ]
  },
  {
   "cell_type": "code",
   "execution_count": 205,
   "metadata": {},
   "outputs": [
    {
     "data": {
      "text/html": [
       "<div>\n",
       "<style scoped>\n",
       "    .dataframe tbody tr th:only-of-type {\n",
       "        vertical-align: middle;\n",
       "    }\n",
       "\n",
       "    .dataframe tbody tr th {\n",
       "        vertical-align: top;\n",
       "    }\n",
       "\n",
       "    .dataframe thead th {\n",
       "        text-align: right;\n",
       "    }\n",
       "</style>\n",
       "<table border=\"1\" class=\"dataframe\">\n",
       "  <thead>\n",
       "    <tr style=\"text-align: right;\">\n",
       "      <th></th>\n",
       "      <th>MODEL</th>\n",
       "      <th>Values</th>\n",
       "    </tr>\n",
       "  </thead>\n",
       "  <tbody>\n",
       "    <tr>\n",
       "      <th>0</th>\n",
       "      <td>rmse_mul_quad</td>\n",
       "      <td>23.086349</td>\n",
       "    </tr>\n",
       "    <tr>\n",
       "      <th>1</th>\n",
       "      <td>rmseadd</td>\n",
       "      <td>129.266476</td>\n",
       "    </tr>\n",
       "    <tr>\n",
       "      <th>2</th>\n",
       "      <td>rmseaddlinear</td>\n",
       "      <td>33.045708</td>\n",
       "    </tr>\n",
       "    <tr>\n",
       "      <th>3</th>\n",
       "      <td>rmseaddquad</td>\n",
       "      <td>23.910984</td>\n",
       "    </tr>\n",
       "    <tr>\n",
       "      <th>4</th>\n",
       "      <td>rmseexpo</td>\n",
       "      <td>43.793739</td>\n",
       "    </tr>\n",
       "    <tr>\n",
       "      <th>5</th>\n",
       "      <td>rmselin</td>\n",
       "      <td>17.122433</td>\n",
       "    </tr>\n",
       "    <tr>\n",
       "      <th>6</th>\n",
       "      <td>rmsemul</td>\n",
       "      <td>135.326484</td>\n",
       "    </tr>\n",
       "    <tr>\n",
       "      <th>7</th>\n",
       "      <td>rmsemulin</td>\n",
       "      <td>9.469000</td>\n",
       "    </tr>\n",
       "    <tr>\n",
       "      <th>8</th>\n",
       "      <td>rmsequad</td>\n",
       "      <td>43.654404</td>\n",
       "    </tr>\n",
       "  </tbody>\n",
       "</table>\n",
       "</div>"
      ],
      "text/plain": [
       "           MODEL      Values\n",
       "0  rmse_mul_quad   23.086349\n",
       "1        rmseadd  129.266476\n",
       "2  rmseaddlinear   33.045708\n",
       "3    rmseaddquad   23.910984\n",
       "4       rmseexpo   43.793739\n",
       "5        rmselin   17.122433\n",
       "6        rmsemul  135.326484\n",
       "7      rmsemulin    9.469000\n",
       "8       rmsequad   43.654404"
      ]
     },
     "execution_count": 205,
     "metadata": {},
     "output_type": "execute_result"
    }
   ],
   "source": [
    "#Compare the results \n",
    "\n",
    "data1 = {\"MODEL\":pd.Series(['rmse_mul_quad','rmseadd','rmseaddlinear','rmseaddquad','rmseexpo','rmselin','rmsemul','rmsemulin','rmsequad']),'Values':pd.Series([rmse_mul_quad,rmseadd,rmseaddlinear,rmseaddquad,rmseexpo,rmselin,rmsemul,rmsemulin,rmsequad])}\n",
    "table_rmse=pd.DataFrame(data1)\n",
    "table_rmse"
   ]
  },
  {
   "cell_type": "code",
   "execution_count": 206,
   "metadata": {},
   "outputs": [],
   "source": [
    "#Build the model on entire data set\n",
    "model_full = smf.ols('Passengers~Month',data=mm).fit()"
   ]
  },
  {
   "cell_type": "code",
   "execution_count": 207,
   "metadata": {},
   "outputs": [
    {
     "data": {
      "text/plain": [
       "<statsmodels.regression.linear_model.RegressionResultsWrapper at 0x1ea831e4130>"
      ]
     },
     "execution_count": 207,
     "metadata": {},
     "output_type": "execute_result"
    }
   ],
   "source": [
    "model_full"
   ]
  },
  {
   "cell_type": "code",
   "execution_count": 208,
   "metadata": {},
   "outputs": [
    {
     "data": {
      "text/plain": [
       "0     4.693857\n",
       "1     4.709450\n",
       "2     4.853814\n",
       "3     4.818083\n",
       "4     4.808364\n",
       "        ...   \n",
       "91    5.971032\n",
       "92    5.861712\n",
       "93    5.734631\n",
       "94    5.605119\n",
       "95    5.740344\n",
       "Length: 96, dtype: float64"
      ]
     },
     "execution_count": 208,
     "metadata": {},
     "output_type": "execute_result"
    }
   ],
   "source": [
    "pred_new  = pd.Series(mullin.predict(mm))\n",
    "pred_new"
   ]
  },
  {
   "cell_type": "code",
   "execution_count": 209,
   "metadata": {},
   "outputs": [],
   "source": [
    "mm[\"forecasted_Sales\"] = pd.Series(pred_new)"
   ]
  },
  {
   "cell_type": "code",
   "execution_count": 210,
   "metadata": {},
   "outputs": [
    {
     "data": {
      "text/html": [
       "<div>\n",
       "<style scoped>\n",
       "    .dataframe tbody tr th:only-of-type {\n",
       "        vertical-align: middle;\n",
       "    }\n",
       "\n",
       "    .dataframe tbody tr th {\n",
       "        vertical-align: top;\n",
       "    }\n",
       "\n",
       "    .dataframe thead th {\n",
       "        text-align: right;\n",
       "    }\n",
       "</style>\n",
       "<table border=\"1\" class=\"dataframe\">\n",
       "  <thead>\n",
       "    <tr style=\"text-align: right;\">\n",
       "      <th></th>\n",
       "      <th>Month</th>\n",
       "      <th>Passengers</th>\n",
       "      <th>Date</th>\n",
       "      <th>month</th>\n",
       "      <th>year</th>\n",
       "      <th>nn</th>\n",
       "      <th>Apr</th>\n",
       "      <th>Aug</th>\n",
       "      <th>Dec</th>\n",
       "      <th>Feb</th>\n",
       "      <th>...</th>\n",
       "      <th>Jun</th>\n",
       "      <th>Mar</th>\n",
       "      <th>May</th>\n",
       "      <th>Nov</th>\n",
       "      <th>Oct</th>\n",
       "      <th>Sep</th>\n",
       "      <th>t</th>\n",
       "      <th>t_square</th>\n",
       "      <th>log_Passengers</th>\n",
       "      <th>forecasted_Sales</th>\n",
       "    </tr>\n",
       "  </thead>\n",
       "  <tbody>\n",
       "    <tr>\n",
       "      <th>0</th>\n",
       "      <td>1995-01-01</td>\n",
       "      <td>112</td>\n",
       "      <td>1995-01-01</td>\n",
       "      <td>Jan</td>\n",
       "      <td>1995</td>\n",
       "      <td>Jan</td>\n",
       "      <td>0</td>\n",
       "      <td>0</td>\n",
       "      <td>0</td>\n",
       "      <td>0</td>\n",
       "      <td>...</td>\n",
       "      <td>0</td>\n",
       "      <td>0</td>\n",
       "      <td>0</td>\n",
       "      <td>0</td>\n",
       "      <td>0</td>\n",
       "      <td>0</td>\n",
       "      <td>1</td>\n",
       "      <td>1</td>\n",
       "      <td>4.718499</td>\n",
       "      <td>4.693857</td>\n",
       "    </tr>\n",
       "    <tr>\n",
       "      <th>1</th>\n",
       "      <td>1995-02-01</td>\n",
       "      <td>118</td>\n",
       "      <td>1995-02-01</td>\n",
       "      <td>Feb</td>\n",
       "      <td>1995</td>\n",
       "      <td>Feb</td>\n",
       "      <td>0</td>\n",
       "      <td>0</td>\n",
       "      <td>0</td>\n",
       "      <td>1</td>\n",
       "      <td>...</td>\n",
       "      <td>0</td>\n",
       "      <td>0</td>\n",
       "      <td>0</td>\n",
       "      <td>0</td>\n",
       "      <td>0</td>\n",
       "      <td>0</td>\n",
       "      <td>2</td>\n",
       "      <td>4</td>\n",
       "      <td>4.770685</td>\n",
       "      <td>4.709450</td>\n",
       "    </tr>\n",
       "    <tr>\n",
       "      <th>2</th>\n",
       "      <td>1995-03-01</td>\n",
       "      <td>132</td>\n",
       "      <td>1995-03-01</td>\n",
       "      <td>Mar</td>\n",
       "      <td>1995</td>\n",
       "      <td>Mar</td>\n",
       "      <td>0</td>\n",
       "      <td>0</td>\n",
       "      <td>0</td>\n",
       "      <td>0</td>\n",
       "      <td>...</td>\n",
       "      <td>0</td>\n",
       "      <td>1</td>\n",
       "      <td>0</td>\n",
       "      <td>0</td>\n",
       "      <td>0</td>\n",
       "      <td>0</td>\n",
       "      <td>3</td>\n",
       "      <td>9</td>\n",
       "      <td>4.882802</td>\n",
       "      <td>4.853814</td>\n",
       "    </tr>\n",
       "    <tr>\n",
       "      <th>3</th>\n",
       "      <td>1995-04-01</td>\n",
       "      <td>129</td>\n",
       "      <td>1995-04-01</td>\n",
       "      <td>Apr</td>\n",
       "      <td>1995</td>\n",
       "      <td>Apr</td>\n",
       "      <td>1</td>\n",
       "      <td>0</td>\n",
       "      <td>0</td>\n",
       "      <td>0</td>\n",
       "      <td>...</td>\n",
       "      <td>0</td>\n",
       "      <td>0</td>\n",
       "      <td>0</td>\n",
       "      <td>0</td>\n",
       "      <td>0</td>\n",
       "      <td>0</td>\n",
       "      <td>4</td>\n",
       "      <td>16</td>\n",
       "      <td>4.859812</td>\n",
       "      <td>4.818083</td>\n",
       "    </tr>\n",
       "    <tr>\n",
       "      <th>4</th>\n",
       "      <td>1995-05-01</td>\n",
       "      <td>121</td>\n",
       "      <td>1995-05-01</td>\n",
       "      <td>May</td>\n",
       "      <td>1995</td>\n",
       "      <td>May</td>\n",
       "      <td>0</td>\n",
       "      <td>0</td>\n",
       "      <td>0</td>\n",
       "      <td>0</td>\n",
       "      <td>...</td>\n",
       "      <td>0</td>\n",
       "      <td>0</td>\n",
       "      <td>1</td>\n",
       "      <td>0</td>\n",
       "      <td>0</td>\n",
       "      <td>0</td>\n",
       "      <td>5</td>\n",
       "      <td>25</td>\n",
       "      <td>4.795791</td>\n",
       "      <td>4.808364</td>\n",
       "    </tr>\n",
       "    <tr>\n",
       "      <th>...</th>\n",
       "      <td>...</td>\n",
       "      <td>...</td>\n",
       "      <td>...</td>\n",
       "      <td>...</td>\n",
       "      <td>...</td>\n",
       "      <td>...</td>\n",
       "      <td>...</td>\n",
       "      <td>...</td>\n",
       "      <td>...</td>\n",
       "      <td>...</td>\n",
       "      <td>...</td>\n",
       "      <td>...</td>\n",
       "      <td>...</td>\n",
       "      <td>...</td>\n",
       "      <td>...</td>\n",
       "      <td>...</td>\n",
       "      <td>...</td>\n",
       "      <td>...</td>\n",
       "      <td>...</td>\n",
       "      <td>...</td>\n",
       "      <td>...</td>\n",
       "    </tr>\n",
       "    <tr>\n",
       "      <th>91</th>\n",
       "      <td>2002-08-01</td>\n",
       "      <td>405</td>\n",
       "      <td>2002-08-01</td>\n",
       "      <td>Aug</td>\n",
       "      <td>2002</td>\n",
       "      <td>Aug</td>\n",
       "      <td>0</td>\n",
       "      <td>1</td>\n",
       "      <td>0</td>\n",
       "      <td>0</td>\n",
       "      <td>...</td>\n",
       "      <td>0</td>\n",
       "      <td>0</td>\n",
       "      <td>0</td>\n",
       "      <td>0</td>\n",
       "      <td>0</td>\n",
       "      <td>0</td>\n",
       "      <td>92</td>\n",
       "      <td>8464</td>\n",
       "      <td>6.003887</td>\n",
       "      <td>5.971032</td>\n",
       "    </tr>\n",
       "    <tr>\n",
       "      <th>92</th>\n",
       "      <td>2002-09-01</td>\n",
       "      <td>355</td>\n",
       "      <td>2002-09-01</td>\n",
       "      <td>Sep</td>\n",
       "      <td>2002</td>\n",
       "      <td>Sep</td>\n",
       "      <td>0</td>\n",
       "      <td>0</td>\n",
       "      <td>0</td>\n",
       "      <td>0</td>\n",
       "      <td>...</td>\n",
       "      <td>0</td>\n",
       "      <td>0</td>\n",
       "      <td>0</td>\n",
       "      <td>0</td>\n",
       "      <td>0</td>\n",
       "      <td>1</td>\n",
       "      <td>93</td>\n",
       "      <td>8649</td>\n",
       "      <td>5.872118</td>\n",
       "      <td>5.861712</td>\n",
       "    </tr>\n",
       "    <tr>\n",
       "      <th>93</th>\n",
       "      <td>2002-10-01</td>\n",
       "      <td>306</td>\n",
       "      <td>2002-10-01</td>\n",
       "      <td>Oct</td>\n",
       "      <td>2002</td>\n",
       "      <td>Oct</td>\n",
       "      <td>0</td>\n",
       "      <td>0</td>\n",
       "      <td>0</td>\n",
       "      <td>0</td>\n",
       "      <td>...</td>\n",
       "      <td>0</td>\n",
       "      <td>0</td>\n",
       "      <td>0</td>\n",
       "      <td>0</td>\n",
       "      <td>1</td>\n",
       "      <td>0</td>\n",
       "      <td>94</td>\n",
       "      <td>8836</td>\n",
       "      <td>5.723585</td>\n",
       "      <td>5.734631</td>\n",
       "    </tr>\n",
       "    <tr>\n",
       "      <th>94</th>\n",
       "      <td>2002-11-01</td>\n",
       "      <td>271</td>\n",
       "      <td>2002-11-01</td>\n",
       "      <td>Nov</td>\n",
       "      <td>2002</td>\n",
       "      <td>Nov</td>\n",
       "      <td>0</td>\n",
       "      <td>0</td>\n",
       "      <td>0</td>\n",
       "      <td>0</td>\n",
       "      <td>...</td>\n",
       "      <td>0</td>\n",
       "      <td>0</td>\n",
       "      <td>0</td>\n",
       "      <td>1</td>\n",
       "      <td>0</td>\n",
       "      <td>0</td>\n",
       "      <td>95</td>\n",
       "      <td>9025</td>\n",
       "      <td>5.602119</td>\n",
       "      <td>5.605119</td>\n",
       "    </tr>\n",
       "    <tr>\n",
       "      <th>95</th>\n",
       "      <td>2002-12-01</td>\n",
       "      <td>306</td>\n",
       "      <td>2002-12-01</td>\n",
       "      <td>Dec</td>\n",
       "      <td>2002</td>\n",
       "      <td>Dec</td>\n",
       "      <td>0</td>\n",
       "      <td>0</td>\n",
       "      <td>1</td>\n",
       "      <td>0</td>\n",
       "      <td>...</td>\n",
       "      <td>0</td>\n",
       "      <td>0</td>\n",
       "      <td>0</td>\n",
       "      <td>0</td>\n",
       "      <td>0</td>\n",
       "      <td>0</td>\n",
       "      <td>96</td>\n",
       "      <td>9216</td>\n",
       "      <td>5.723585</td>\n",
       "      <td>5.740344</td>\n",
       "    </tr>\n",
       "  </tbody>\n",
       "</table>\n",
       "<p>96 rows × 22 columns</p>\n",
       "</div>"
      ],
      "text/plain": [
       "        Month  Passengers       Date month  year   nn  Apr  Aug  Dec  Feb  \\\n",
       "0  1995-01-01         112 1995-01-01   Jan  1995  Jan    0    0    0    0   \n",
       "1  1995-02-01         118 1995-02-01   Feb  1995  Feb    0    0    0    1   \n",
       "2  1995-03-01         132 1995-03-01   Mar  1995  Mar    0    0    0    0   \n",
       "3  1995-04-01         129 1995-04-01   Apr  1995  Apr    1    0    0    0   \n",
       "4  1995-05-01         121 1995-05-01   May  1995  May    0    0    0    0   \n",
       "..        ...         ...        ...   ...   ...  ...  ...  ...  ...  ...   \n",
       "91 2002-08-01         405 2002-08-01   Aug  2002  Aug    0    1    0    0   \n",
       "92 2002-09-01         355 2002-09-01   Sep  2002  Sep    0    0    0    0   \n",
       "93 2002-10-01         306 2002-10-01   Oct  2002  Oct    0    0    0    0   \n",
       "94 2002-11-01         271 2002-11-01   Nov  2002  Nov    0    0    0    0   \n",
       "95 2002-12-01         306 2002-12-01   Dec  2002  Dec    0    0    1    0   \n",
       "\n",
       "    ...  Jun  Mar  May  Nov  Oct  Sep   t  t_square  log_Passengers  \\\n",
       "0   ...    0    0    0    0    0    0   1         1        4.718499   \n",
       "1   ...    0    0    0    0    0    0   2         4        4.770685   \n",
       "2   ...    0    1    0    0    0    0   3         9        4.882802   \n",
       "3   ...    0    0    0    0    0    0   4        16        4.859812   \n",
       "4   ...    0    0    1    0    0    0   5        25        4.795791   \n",
       "..  ...  ...  ...  ...  ...  ...  ...  ..       ...             ...   \n",
       "91  ...    0    0    0    0    0    0  92      8464        6.003887   \n",
       "92  ...    0    0    0    0    0    1  93      8649        5.872118   \n",
       "93  ...    0    0    0    0    1    0  94      8836        5.723585   \n",
       "94  ...    0    0    0    1    0    0  95      9025        5.602119   \n",
       "95  ...    0    0    0    0    0    0  96      9216        5.723585   \n",
       "\n",
       "    forecasted_Sales  \n",
       "0           4.693857  \n",
       "1           4.709450  \n",
       "2           4.853814  \n",
       "3           4.818083  \n",
       "4           4.808364  \n",
       "..               ...  \n",
       "91          5.971032  \n",
       "92          5.861712  \n",
       "93          5.734631  \n",
       "94          5.605119  \n",
       "95          5.740344  \n",
       "\n",
       "[96 rows x 22 columns]"
      ]
     },
     "execution_count": 210,
     "metadata": {},
     "output_type": "execute_result"
    }
   ],
   "source": [
    "mm"
   ]
  },
  {
   "cell_type": "code",
   "execution_count": 211,
   "metadata": {},
   "outputs": [],
   "source": [
    "import pandas as pd\n",
    "import numpy as np\n",
    "import matplotlib.pyplot as plt\n",
    "import seaborn as sns\n",
    "from statsmodels.tsa.seasonal import seasonal_decompose\n",
    "from statsmodels.tsa.holtwinters import SimpleExpSmoothing # SES\n",
    "from statsmodels.tsa.holtwinters import Holt # Holts Exponential Smoothing\n",
    "from statsmodels.tsa.holtwinters import ExponentialSmoothing "
   ]
  },
  {
   "cell_type": "code",
   "execution_count": 212,
   "metadata": {},
   "outputs": [
    {
     "data": {
      "text/html": [
       "<div>\n",
       "<style scoped>\n",
       "    .dataframe tbody tr th:only-of-type {\n",
       "        vertical-align: middle;\n",
       "    }\n",
       "\n",
       "    .dataframe tbody tr th {\n",
       "        vertical-align: top;\n",
       "    }\n",
       "\n",
       "    .dataframe thead th {\n",
       "        text-align: right;\n",
       "    }\n",
       "</style>\n",
       "<table border=\"1\" class=\"dataframe\">\n",
       "  <thead>\n",
       "    <tr style=\"text-align: right;\">\n",
       "      <th></th>\n",
       "      <th>Month</th>\n",
       "      <th>Passengers</th>\n",
       "    </tr>\n",
       "  </thead>\n",
       "  <tbody>\n",
       "    <tr>\n",
       "      <th>0</th>\n",
       "      <td>1995-01-01</td>\n",
       "      <td>112</td>\n",
       "    </tr>\n",
       "    <tr>\n",
       "      <th>1</th>\n",
       "      <td>1995-02-01</td>\n",
       "      <td>118</td>\n",
       "    </tr>\n",
       "    <tr>\n",
       "      <th>2</th>\n",
       "      <td>1995-03-01</td>\n",
       "      <td>132</td>\n",
       "    </tr>\n",
       "    <tr>\n",
       "      <th>3</th>\n",
       "      <td>1995-04-01</td>\n",
       "      <td>129</td>\n",
       "    </tr>\n",
       "    <tr>\n",
       "      <th>4</th>\n",
       "      <td>1995-05-01</td>\n",
       "      <td>121</td>\n",
       "    </tr>\n",
       "    <tr>\n",
       "      <th>...</th>\n",
       "      <td>...</td>\n",
       "      <td>...</td>\n",
       "    </tr>\n",
       "    <tr>\n",
       "      <th>91</th>\n",
       "      <td>2002-08-01</td>\n",
       "      <td>405</td>\n",
       "    </tr>\n",
       "    <tr>\n",
       "      <th>92</th>\n",
       "      <td>2002-09-01</td>\n",
       "      <td>355</td>\n",
       "    </tr>\n",
       "    <tr>\n",
       "      <th>93</th>\n",
       "      <td>2002-10-01</td>\n",
       "      <td>306</td>\n",
       "    </tr>\n",
       "    <tr>\n",
       "      <th>94</th>\n",
       "      <td>2002-11-01</td>\n",
       "      <td>271</td>\n",
       "    </tr>\n",
       "    <tr>\n",
       "      <th>95</th>\n",
       "      <td>2002-12-01</td>\n",
       "      <td>306</td>\n",
       "    </tr>\n",
       "  </tbody>\n",
       "</table>\n",
       "<p>96 rows × 2 columns</p>\n",
       "</div>"
      ],
      "text/plain": [
       "        Month  Passengers\n",
       "0  1995-01-01         112\n",
       "1  1995-02-01         118\n",
       "2  1995-03-01         132\n",
       "3  1995-04-01         129\n",
       "4  1995-05-01         121\n",
       "..        ...         ...\n",
       "91 2002-08-01         405\n",
       "92 2002-09-01         355\n",
       "93 2002-10-01         306\n",
       "94 2002-11-01         271\n",
       "95 2002-12-01         306\n",
       "\n",
       "[96 rows x 2 columns]"
      ]
     },
     "execution_count": 212,
     "metadata": {},
     "output_type": "execute_result"
    }
   ],
   "source": [
    "data = read_excel('C:/Users/RajabhishekAditya/Downloads/forecasting/Airlines+Data.xlsx')\n",
    "data"
   ]
  },
  {
   "cell_type": "code",
   "execution_count": 213,
   "metadata": {},
   "outputs": [
    {
     "data": {
      "text/plain": [
       "<AxesSubplot:>"
      ]
     },
     "execution_count": 213,
     "metadata": {},
     "output_type": "execute_result"
    },
    {
     "data": {
      "image/png": "[encoded data removed]",
      "text/plain": [
       "<Figure size 432x288 with 1 Axes>"
      ]
     },
     "metadata": {
      "needs_background": "light"
     },
     "output_type": "display_data"
    }
   ],
   "source": [
    "data.Passengers.plot()"
   ]
  },
  {
   "cell_type": "code",
   "execution_count": 214,
   "metadata": {},
   "outputs": [],
   "source": [
    "#splitting data\n",
    "Train = data.head(80)\n",
    "Test = data.tail(16)"
   ]
  },
  {
   "cell_type": "code",
   "execution_count": 215,
   "metadata": {},
   "outputs": [
    {
     "data": {
      "text/plain": [
       "<matplotlib.legend.Legend at 0x1ea81fae880>"
      ]
     },
     "execution_count": 215,
     "metadata": {},
     "output_type": "execute_result"
    },
    {
     "data": {
      "image/png": "[encoded data removed]",
      "text/plain": [
       "<Figure size 864x288 with 1 Axes>"
      ]
     },
     "metadata": {
      "needs_background": "light"
     },
     "output_type": "display_data"
    }
   ],
   "source": [
    "#moving average\n",
    "plt.figure(figsize=(12,4))\n",
    "data.Passengers.plot(label=\"org\")\n",
    "for i in range(2,96,10): # 10 is difference\n",
    "    data[\"Passengers\"].rolling(i).mean().plot(label=str(i))\n",
    "plt.legend(loc='best')"
   ]
  },
  {
   "cell_type": "code",
   "execution_count": 216,
   "metadata": {},
   "outputs": [
    {
     "data": {
      "image/png": "[encoded data removed]",
      "text/plain": [
       "<Figure size 432x288 with 4 Axes>"
      ]
     },
     "metadata": {
      "needs_background": "light"
     },
     "output_type": "display_data"
    }
   ],
   "source": [
    "#Time Series Decomposition Plot\n",
    "decompose_ts_add = seasonal_decompose(data.Passengers,period=12)\n",
    "decompose_ts_add.plot()\n",
    "plt.show()"
   ]
  },
  {
   "cell_type": "code",
   "execution_count": 217,
   "metadata": {},
   "outputs": [
    {
     "data": {
      "image/png": "[encoded data removed]",
      "text/plain": [
       "<Figure size 432x288 with 1 Axes>"
      ]
     },
     "metadata": {
      "needs_background": "light"
     },
     "output_type": "display_data"
    },
    {
     "data": {
      "image/png": "[encoded data removed]",
      "text/plain": [
       "<Figure size 432x288 with 1 Axes>"
      ]
     },
     "metadata": {
      "needs_background": "light"
     },
     "output_type": "display_data"
    }
   ],
   "source": [
    "#ACF AND PACF PLOTS\n",
    "import statsmodels.graphics.tsaplots as tsa_plots\n",
    "tsa_plots.plot_acf(data.Passengers,lags=12)\n",
    "tsa_plots.plot_pacf(data.Passengers,lags=12)\n",
    "plt.show()"
   ]
  },
  {
   "cell_type": "code",
   "execution_count": 218,
   "metadata": {},
   "outputs": [],
   "source": [
    "# Evaluate metric MAPE\n",
    "def MAPE(pred,org):\n",
    "    temp = np.abs((pred-org)/org)*100\n",
    "    return np.mean(temp)"
   ]
  },
  {
   "cell_type": "code",
   "execution_count": 219,
   "metadata": {},
   "outputs": [
    {
     "name": "stderr",
     "output_type": "stream",
     "text": [
      "C:\\Users\\RajabhishekAditya\\anaconda3\\lib\\site-packages\\statsmodels\\tsa\\holtwinters\\model.py:427: FutureWarning: After 0.13 initialization must be handled at model creation\n",
      "  warnings.warn(\n"
     ]
    },
    {
     "data": {
      "text/plain": [
       "11.375850554268187"
      ]
     },
     "execution_count": 219,
     "metadata": {},
     "output_type": "execute_result"
    }
   ],
   "source": [
    "# simple exponenrial method\n",
    "ses_model = SimpleExpSmoothing(Train[\"Passengers\"]).fit(smoothing_level=0.2)\n",
    "pred_ses = ses_model.predict(start = Test.index[0],end = Test.index[-1])\n",
    "MAPE(pred_ses,Test.Passengers) \n"
   ]
  },
  {
   "cell_type": "code",
   "execution_count": 220,
   "metadata": {},
   "outputs": [
    {
     "name": "stderr",
     "output_type": "stream",
     "text": [
      "<ipython-input-220-490995e5c6ac>:2: FutureWarning: the 'smoothing_slope'' keyword is deprecated, use 'smoothing_trend' instead\n",
      "  hw_model = Holt(Train[\"Passengers\"]).fit(smoothing_level=0.8, smoothing_slope=0.2)\n"
     ]
    },
    {
     "data": {
      "text/plain": [
       "51.93443984363048"
      ]
     },
     "execution_count": 220,
     "metadata": {},
     "output_type": "execute_result"
    }
   ],
   "source": [
    "#Holt Method\n",
    "hw_model = Holt(Train[\"Passengers\"]).fit(smoothing_level=0.8, smoothing_slope=0.2)\n",
    "pred_hw = hw_model.predict(start = Test.index[0],end = Test.index[-1])\n",
    "MAPE(pred_hw,Test.Passengers) "
   ]
  },
  {
   "cell_type": "code",
   "execution_count": 221,
   "metadata": {},
   "outputs": [
    {
     "data": {
      "text/plain": [
       "7.6099745542819575"
      ]
     },
     "execution_count": 221,
     "metadata": {},
     "output_type": "execute_result"
    }
   ],
   "source": [
    "### Holts winter exponential smoothing with additive seasonality and additive trend\n",
    "hwe_model_add_add = ExponentialSmoothing(Train[\"Passengers\"],seasonal=\"add\",trend=\"add\",seasonal_periods=12).fit() #add the trend to the model\n",
    "pred_hwe_add_add = hwe_model_add_add.predict(start = Test.index[0],end = Test.index[-1])\n",
    "MAPE(pred_hwe_add_add,Test.Passengers) "
   ]
  },
  {
   "cell_type": "code",
   "execution_count": 222,
   "metadata": {},
   "outputs": [
    {
     "data": {
      "text/plain": [
       "3.2167504981916455"
      ]
     },
     "execution_count": 222,
     "metadata": {},
     "output_type": "execute_result"
    }
   ],
   "source": [
    "### Holts winter exponential smoothing with multiplicative seasonality and additive trend\n",
    "hwe_model_mul_add = ExponentialSmoothing(Train[\"Passengers\"],seasonal=\"mul\",trend=\"add\",seasonal_periods=12).fit() \n",
    "pred_hwe_mul_add = hwe_model_mul_add.predict(start = Test.index[0],end = Test.index[-1])\n",
    "MAPE(pred_hwe_mul_add,Test.Passengers)"
   ]
  },
  {
   "cell_type": "code",
   "execution_count": 223,
   "metadata": {},
   "outputs": [],
   "source": [
    "## Final Model by combining train and test\n",
    "hwe_model_add_add = ExponentialSmoothing(data[\"Passengers\"],seasonal=\"mul\",trend=\"add\",seasonal_periods=12).fit()\n"
   ]
  },
  {
   "cell_type": "code",
   "execution_count": 224,
   "metadata": {},
   "outputs": [
    {
     "data": {
      "text/plain": [
       "96     312.899164\n",
       "97     308.170903\n",
       "98     355.533272\n",
       "99     345.770384\n",
       "100    345.697110\n",
       "101    392.472018\n",
       "102    436.501550\n",
       "103    429.860620\n",
       "104    380.172862\n",
       "105    332.318642\n",
       "106    290.626602\n",
       "107    330.591802\n",
       "108    337.371414\n",
       "109    332.117277\n",
       "110    382.982189\n",
       "111    372.294905\n",
       "112    372.047562\n",
       "113    422.199020\n",
       "114    469.356105\n",
       "115    462.013652\n",
       "dtype: float64"
      ]
     },
     "execution_count": 224,
     "metadata": {},
     "output_type": "execute_result"
    }
   ],
   "source": [
    "#Forecasting for next 20 time periods\n",
    "hwe_model_add_add.forecast(20)"
   ]
  },
  {
   "cell_type": "code",
   "execution_count": 225,
   "metadata": {},
   "outputs": [
    {
     "data": {
      "text/html": [
       "<div>\n",
       "<style scoped>\n",
       "    .dataframe tbody tr th:only-of-type {\n",
       "        vertical-align: middle;\n",
       "    }\n",
       "\n",
       "    .dataframe tbody tr th {\n",
       "        vertical-align: top;\n",
       "    }\n",
       "\n",
       "    .dataframe thead th {\n",
       "        text-align: right;\n",
       "    }\n",
       "</style>\n",
       "<table border=\"1\" class=\"dataframe\">\n",
       "  <thead>\n",
       "    <tr style=\"text-align: right;\">\n",
       "      <th></th>\n",
       "      <th>Passengers</th>\n",
       "    </tr>\n",
       "    <tr>\n",
       "      <th>Month</th>\n",
       "      <th></th>\n",
       "    </tr>\n",
       "  </thead>\n",
       "  <tbody>\n",
       "    <tr>\n",
       "      <th>1995-01-01</th>\n",
       "      <td>112</td>\n",
       "    </tr>\n",
       "    <tr>\n",
       "      <th>1995-02-01</th>\n",
       "      <td>118</td>\n",
       "    </tr>\n",
       "    <tr>\n",
       "      <th>1995-03-01</th>\n",
       "      <td>132</td>\n",
       "    </tr>\n",
       "    <tr>\n",
       "      <th>1995-04-01</th>\n",
       "      <td>129</td>\n",
       "    </tr>\n",
       "    <tr>\n",
       "      <th>1995-05-01</th>\n",
       "      <td>121</td>\n",
       "    </tr>\n",
       "    <tr>\n",
       "      <th>...</th>\n",
       "      <td>...</td>\n",
       "    </tr>\n",
       "    <tr>\n",
       "      <th>2002-08-01</th>\n",
       "      <td>405</td>\n",
       "    </tr>\n",
       "    <tr>\n",
       "      <th>2002-09-01</th>\n",
       "      <td>355</td>\n",
       "    </tr>\n",
       "    <tr>\n",
       "      <th>2002-10-01</th>\n",
       "      <td>306</td>\n",
       "    </tr>\n",
       "    <tr>\n",
       "      <th>2002-11-01</th>\n",
       "      <td>271</td>\n",
       "    </tr>\n",
       "    <tr>\n",
       "      <th>2002-12-01</th>\n",
       "      <td>306</td>\n",
       "    </tr>\n",
       "  </tbody>\n",
       "</table>\n",
       "<p>96 rows × 1 columns</p>\n",
       "</div>"
      ],
      "text/plain": [
       "            Passengers\n",
       "Month                 \n",
       "1995-01-01         112\n",
       "1995-02-01         118\n",
       "1995-03-01         132\n",
       "1995-04-01         129\n",
       "1995-05-01         121\n",
       "...                ...\n",
       "2002-08-01         405\n",
       "2002-09-01         355\n",
       "2002-10-01         306\n",
       "2002-11-01         271\n",
       "2002-12-01         306\n",
       "\n",
       "[96 rows x 1 columns]"
      ]
     },
     "execution_count": 225,
     "metadata": {},
     "output_type": "execute_result"
    }
   ],
   "source": [
    "series = read_excel('C:/Users/RajabhishekAditya/Downloads/forecasting/Airlines+Data.xlsx', header=0, index_col=0, parse_dates=True)\n",
    "series"
   ]
  },
  {
   "cell_type": "code",
   "execution_count": 226,
   "metadata": {},
   "outputs": [
    {
     "data": {
      "image/png": "[encoded data removed]",
      "text/plain": [
       "<Figure size 432x288 with 1 Axes>"
      ]
     },
     "metadata": {
      "needs_background": "light"
     },
     "output_type": "display_data"
    }
   ],
   "source": [
    "# line plot of time series\n",
    "from pandas import read_csv\n",
    "from matplotlib import pyplot\n",
    "series.plot()\n",
    "pyplot.show()"
   ]
  },
  {
   "cell_type": "code",
   "execution_count": 227,
   "metadata": {},
   "outputs": [
    {
     "data": {
      "text/plain": [
       "<AxesSubplot:ylabel='Density'>"
      ]
     },
     "execution_count": 227,
     "metadata": {},
     "output_type": "execute_result"
    },
    {
     "data": {
      "image/png": "[encoded data removed]",
      "text/plain": [
       "<Figure size 432x288 with 1 Axes>"
      ]
     },
     "metadata": {
      "needs_background": "light"
     },
     "output_type": "display_data"
    }
   ],
   "source": [
    "series.plot(kind='kde')"
   ]
  },
  {
   "cell_type": "code",
   "execution_count": 228,
   "metadata": {},
   "outputs": [
    {
     "name": "stdout",
     "output_type": "stream",
     "text": [
      "Dataset 86, Validation 10\n"
     ]
    }
   ],
   "source": [
    "# separate out a validation dataset\n",
    "split_point = len(series) - 10\n",
    "dataset, validation = series[0:split_point], series[split_point:]\n",
    "print('Dataset %d, Validation %d' % (len(dataset), len(validation)))\n",
    "dataset.to_csv('dataset.csv', header=False)\n",
    "validation.to_csv('validation.csv', header=False)"
   ]
  },
  {
   "cell_type": "code",
   "execution_count": 229,
   "metadata": {},
   "outputs": [],
   "source": [
    "# evaluate a persistence model\n",
    "from pandas import read_csv\n",
    "from sklearn.metrics import mean_squared_error\n",
    "from math import sqrt\n",
    "# load data\n",
    "train = read_csv('dataset.csv', header=None, index_col=0, parse_dates=True, squeeze=True)\n",
    "# prepare data\n",
    "X = train.values\n",
    "X = X.astype('float32')\n",
    "train_size = int(len(X) * 0.50)\n",
    "train, test = X[0:train_size], X[train_size:]\n"
   ]
  },
  {
   "cell_type": "code",
   "execution_count": 230,
   "metadata": {},
   "outputs": [
    {
     "name": "stdout",
     "output_type": "stream",
     "text": [
      ">Predicted=230.000, Expected=242.000\n",
      ">Predicted=242.000, Expected=209.000\n",
      ">Predicted=209.000, Expected=191.000\n",
      ">Predicted=191.000, Expected=172.000\n",
      ">Predicted=172.000, Expected=194.000\n",
      ">Predicted=194.000, Expected=196.000\n",
      ">Predicted=196.000, Expected=196.000\n",
      ">Predicted=196.000, Expected=236.000\n",
      ">Predicted=236.000, Expected=235.000\n",
      ">Predicted=235.000, Expected=229.000\n",
      ">Predicted=229.000, Expected=243.000\n",
      ">Predicted=243.000, Expected=264.000\n",
      ">Predicted=264.000, Expected=272.000\n",
      ">Predicted=272.000, Expected=237.000\n",
      ">Predicted=237.000, Expected=211.000\n",
      ">Predicted=211.000, Expected=180.000\n",
      ">Predicted=180.000, Expected=201.000\n",
      ">Predicted=201.000, Expected=204.000\n",
      ">Predicted=204.000, Expected=188.000\n",
      ">Predicted=188.000, Expected=235.000\n",
      ">Predicted=235.000, Expected=227.000\n",
      ">Predicted=227.000, Expected=234.000\n",
      ">Predicted=234.000, Expected=264.000\n",
      ">Predicted=264.000, Expected=302.000\n",
      ">Predicted=302.000, Expected=293.000\n",
      ">Predicted=293.000, Expected=259.000\n",
      ">Predicted=259.000, Expected=229.000\n",
      ">Predicted=229.000, Expected=203.000\n",
      ">Predicted=203.000, Expected=229.000\n",
      ">Predicted=229.000, Expected=242.000\n",
      ">Predicted=242.000, Expected=233.000\n",
      ">Predicted=233.000, Expected=267.000\n",
      ">Predicted=267.000, Expected=269.000\n",
      ">Predicted=269.000, Expected=270.000\n",
      ">Predicted=270.000, Expected=315.000\n",
      ">Predicted=315.000, Expected=364.000\n",
      ">Predicted=364.000, Expected=347.000\n",
      ">Predicted=347.000, Expected=312.000\n",
      ">Predicted=312.000, Expected=274.000\n",
      ">Predicted=274.000, Expected=237.000\n",
      ">Predicted=237.000, Expected=278.000\n",
      ">Predicted=278.000, Expected=284.000\n",
      ">Predicted=284.000, Expected=277.000\n",
      "RMSE: 25.698\n"
     ]
    }
   ],
   "source": [
    "# walk-forward validation\n",
    "history = [x for x in train]\n",
    "predictions = list()\n",
    "for i in range(len(test)):\n",
    "    yhat = history[-1]\n",
    "    predictions.append(yhat)\n",
    "# observation\n",
    "    obs = test[i]\n",
    "    history.append(obs)\n",
    "    print('>Predicted=%.3f, Expected=%.3f' % (yhat, obs))\n",
    "# report performance\n",
    "rmse = sqrt(mean_squared_error(test, predictions))\n",
    "print('RMSE: %.3f' % rmse)"
   ]
  },
  {
   "cell_type": "code",
   "execution_count": 231,
   "metadata": {},
   "outputs": [],
   "source": [
    "# grid search ARIMA parameters for a time series\n",
    "\n",
    "import warnings\n",
    "from pandas import read_csv\n",
    "from statsmodels.tsa.arima_model import ARIMA\n",
    "from sklearn.metrics import mean_squared_error\n",
    "from math import sqrt\n",
    "\n",
    "\n",
    "# evaluate an ARIMA model for a given order (p,d,q) and return RMSE\n",
    "def evaluate_arima_model(X, arima_order):\n",
    "# prepare training dataset\n",
    "    X = X.astype('float32')\n",
    "    train_size = int(len(X) * 0.50)\n",
    "    train, test = X[0:train_size], X[train_size:]\n",
    "    history = [x for x in train]\n",
    "# make predictions\n",
    "    predictions = list()\n",
    "    for t in range(len(test)):\n",
    "        model = ARIMA(history, order=arima_order)\n",
    "# model_fit = model.fit(disp=0)\n",
    "        model_fit = model.fit(disp=0)\n",
    "        yhat = model_fit.forecast()[0]\n",
    "        predictions.append(yhat)\n",
    "        history.append(test[t])\n",
    "# calculate out of sample error\n",
    "    rmse = sqrt(mean_squared_error(test, predictions))\n",
    "    return rmse"
   ]
  },
  {
   "cell_type": "code",
   "execution_count": 232,
   "metadata": {},
   "outputs": [],
   "source": [
    "# evaluate combinations of p, d and q values for an ARIMA model\n",
    "def evaluate_models(dataset, p_values, d_values, q_values):\n",
    "    dataset = dataset.astype('float32')\n",
    "    best_score, best_cfg = float('inf'), None\n",
    "    for p in p_values:\n",
    "        for d in d_values:\n",
    "            for q in q_values:\n",
    "                order = (p,d,q)\n",
    "                try:\n",
    "                    rmse = evaluate_arima_model(train, order)\n",
    "                    if rmse < best_score:\n",
    "                        best_score, best_cfg = rmse, order\n",
    "                    print('ARIMA%s RMSE=%.3f' % (order,rmse))\n",
    "                except:\n",
    "                    continue\n",
    "    print('Best ARIMA%s RMSE=%.3f' % (best_cfg, best_score))"
   ]
  },
  {
   "cell_type": "code",
   "execution_count": 233,
   "metadata": {},
   "outputs": [
    {
     "name": "stdout",
     "output_type": "stream",
     "text": [
      "ARIMA(0, 0, 0) RMSE=78.563\n",
      "ARIMA(0, 0, 1) RMSE=44.789\n",
      "ARIMA(0, 1, 0) RMSE=25.903\n",
      "ARIMA(0, 1, 1) RMSE=25.355\n",
      "ARIMA(0, 1, 2) RMSE=27.772\n",
      "ARIMA(0, 1, 3) RMSE=23.806\n",
      "ARIMA(0, 1, 4) RMSE=22.640\n",
      "ARIMA(0, 2, 0) RMSE=32.474\n",
      "ARIMA(0, 2, 1) RMSE=26.640\n",
      "ARIMA(0, 2, 2) RMSE=25.942\n",
      "ARIMA(0, 2, 3) RMSE=27.914\n",
      "ARIMA(0, 2, 4) RMSE=25.151\n",
      "ARIMA(1, 0, 0) RMSE=26.036\n",
      "ARIMA(1, 0, 1) RMSE=25.282\n",
      "ARIMA(1, 0, 2) RMSE=461.889\n",
      "ARIMA(1, 1, 0) RMSE=25.679\n",
      "ARIMA(1, 2, 0) RMSE=31.603\n",
      "ARIMA(2, 0, 0) RMSE=25.620\n",
      "ARIMA(2, 1, 0) RMSE=25.467\n",
      "ARIMA(2, 2, 0) RMSE=30.414\n",
      "ARIMA(3, 0, 0) RMSE=25.510\n",
      "ARIMA(3, 0, 1) RMSE=24.907\n",
      "ARIMA(3, 1, 0) RMSE=25.648\n",
      "ARIMA(3, 2, 0) RMSE=30.597\n",
      "ARIMA(4, 0, 0) RMSE=25.764\n",
      "ARIMA(4, 1, 0) RMSE=25.344\n",
      "ARIMA(4, 2, 0) RMSE=29.205\n",
      "ARIMA(4, 2, 1) RMSE=26.016\n",
      "Best ARIMA(0, 1, 4) RMSE=22.640\n"
     ]
    }
   ],
   "source": [
    "# load dataset\n",
    "train = read_csv('dataset.csv', header=None, index_col=0, parse_dates=True, squeeze=True)\n",
    "# evaluate parameters\n",
    "p_values = range(0, 5)\n",
    "d_values = range(0, 5)\n",
    "q_values = range(0, 5)\n",
    "warnings.filterwarnings(\"ignore\")\n",
    "evaluate_models(train.values, p_values, d_values, q_values)"
   ]
  },
  {
   "cell_type": "code",
   "execution_count": 234,
   "metadata": {},
   "outputs": [],
   "source": [
    "# save finalized model to file\n",
    "from pandas import read_csv\n",
    "from statsmodels.tsa.arima_model import ARIMA\n",
    "import numpy"
   ]
  },
  {
   "cell_type": "code",
   "execution_count": 235,
   "metadata": {},
   "outputs": [],
   "source": [
    "# load data\n",
    "train = read_csv('dataset.csv', header=0, index_col=0, parse_dates=True)\n",
    "# prepare data\n",
    "X = train.values\n",
    "X = X.astype('float32')"
   ]
  },
  {
   "cell_type": "code",
   "execution_count": 236,
   "metadata": {},
   "outputs": [
    {
     "data": {
      "image/png": "[encoded data removed]",
      "text/plain": [
       "<Figure size 432x288 with 1 Axes>"
      ]
     },
     "execution_count": 236,
     "metadata": {},
     "output_type": "execute_result"
    },
    {
     "data": {
      "image/png": "[encoded data removed]",
      "text/plain": [
       "<Figure size 432x288 with 1 Axes>"
      ]
     },
     "metadata": {
      "needs_background": "light"
     },
     "output_type": "display_data"
    }
   ],
   "source": [
    "# fit model\n",
    "model = ARIMA(X, order=(3,1,0))\n",
    "model_fit = model.fit()\n",
    "forecast=model_fit.forecast(steps=10)[0]\n",
    "model_fit.plot_predict(1, 100)"
   ]
  },
  {
   "cell_type": "code",
   "execution_count": 237,
   "metadata": {},
   "outputs": [
    {
     "data": {
      "text/plain": [
       "71.93698492463312"
      ]
     },
     "execution_count": 237,
     "metadata": {},
     "output_type": "execute_result"
    }
   ],
   "source": [
    "#Error on the test data\n",
    "val=pd.read_csv('validation.csv',header=None)\n",
    "rmse = sqrt(mean_squared_error(val[1], forecast))\n",
    "rmse"
   ]
  },
  {
   "cell_type": "code",
   "execution_count": 240,
   "metadata": {},
   "outputs": [],
   "source": [
    "# fit model\n",
    "read_excel('C:/Users/RajabhishekAditya/Downloads/forecasting/Airlines+Data.xlsx', header=0, index_col=0, parse_dates=True)\n",
    "# prepare data\n",
    "X = train.values\n",
    "X = X.astype('float32')"
   ]
  },
  {
   "cell_type": "code",
   "execution_count": 241,
   "metadata": {},
   "outputs": [],
   "source": [
    "model = ARIMA(X, order=(3,1,0))\n",
    "model_fit = model.fit()"
   ]
  },
  {
   "cell_type": "code",
   "execution_count": 242,
   "metadata": {},
   "outputs": [
    {
     "data": {
      "image/png": "[encoded data removed]",
      "text/plain": [
       "<Figure size 432x288 with 1 Axes>"
      ]
     },
     "execution_count": 242,
     "metadata": {},
     "output_type": "execute_result"
    },
    {
     "data": {
      "image/png": "[encoded data removed]",
      "text/plain": [
       "<Figure size 432x288 with 1 Axes>"
      ]
     },
     "metadata": {
      "needs_background": "light"
     },
     "output_type": "display_data"
    }
   ],
   "source": [
    "forecast=model_fit.forecast(steps=10)[0]\n",
    "model_fit.plot_predict(1,100)"
   ]
  },
  {
   "cell_type": "code",
   "execution_count": 243,
   "metadata": {},
   "outputs": [
    {
     "data": {
      "text/plain": [
       "array([271.5444422 , 272.96717823, 277.13673876, 280.43796091,\n",
       "       282.22674611, 283.52404428, 285.09891935, 287.00430993,\n",
       "       288.98786988, 290.89405295])"
      ]
     },
     "execution_count": 243,
     "metadata": {},
     "output_type": "execute_result"
    }
   ],
   "source": [
    "forecast"
   ]
  },
  {
   "cell_type": "code",
   "execution_count": null,
   "metadata": {},
   "outputs": [],
   "source": []
  },
  {
   "cell_type": "code",
   "execution_count": null,
   "metadata": {},
   "outputs": [],
   "source": []
  }
 ],
 "metadata": {
  "kernelspec": {
   "display_name": "Python 3",
   "language": "python",
   "name": "python3"
  },
  "language_info": {
   "codemirror_mode": {
    "name": "ipython",
    "version": 3
   },
   "file_extension": ".py",
   "mimetype": "text/x-python",
   "name": "python",
   "nbconvert_exporter": "python",
   "pygments_lexer": "ipython3",
   "version": "3.8.5"
  }
 },
 "nbformat": 4,
 "nbformat_minor": 4
}
